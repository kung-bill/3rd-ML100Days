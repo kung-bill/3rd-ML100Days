{
 "cells": [
  {
   "cell_type": "markdown",
   "metadata": {},
   "source": [
    "## Work\n",
    "1. 試比較 save_best_only 與否的差異\n",
    "2. 請僅存入將 save_weights_only 設定為 True, 並嘗試 reset ipynb 並將模型與權重重新建回並預測 x_test"
   ]
  },
  {
   "cell_type": "code",
   "execution_count": 1,
   "metadata": {},
   "outputs": [
    {
     "name": "stderr",
     "output_type": "stream",
     "text": [
      "Using TensorFlow backend.\n"
     ]
    }
   ],
   "source": [
    "import os\n",
    "import keras\n",
    "\n",
    "# Disable GPU\n",
    "os.environ[\"CUDA_VISIBLE_DEVICES\"] = \"0\""
   ]
  },
  {
   "cell_type": "code",
   "execution_count": 2,
   "metadata": {},
   "outputs": [],
   "source": [
    "train, test = keras.datasets.cifar10.load_data()"
   ]
  },
  {
   "cell_type": "code",
   "execution_count": 3,
   "metadata": {},
   "outputs": [],
   "source": [
    "## 資料前處理\n",
    "def preproc_x(x, flatten=True):\n",
    "    x = x / 255.\n",
    "    if flatten:\n",
    "        x = x.reshape((len(x), -1))\n",
    "    return x\n",
    "\n",
    "def preproc_y(y, num_classes=10):\n",
    "    if y.shape[-1] == 1:\n",
    "        y = keras.utils.to_categorical(y, num_classes)\n",
    "    return y    "
   ]
  },
  {
   "cell_type": "code",
   "execution_count": 4,
   "metadata": {},
   "outputs": [],
   "source": [
    "x_train, y_train = train\n",
    "x_test, y_test = test\n",
    "\n",
    "# Preproc the inputs\n",
    "x_train = preproc_x(x_train)\n",
    "x_test = preproc_x(x_test)\n",
    "\n",
    "# Preprc the outputs\n",
    "y_train = preproc_y(y_train)\n",
    "y_test = preproc_y(y_test)"
   ]
  },
  {
   "cell_type": "code",
   "execution_count": 5,
   "metadata": {},
   "outputs": [],
   "source": [
    "from keras.layers import BatchNormalization\n",
    "\n",
    "def build_mlp(input_shape, output_units=10, num_neurons=[512, 256, 128]):\n",
    "    input_layer = keras.layers.Input(input_shape)\n",
    "    for i, n_units in enumerate(num_neurons):\n",
    "        if i == 0:\n",
    "            x = keras.layers.Dense(units=n_units, \n",
    "                                   activation=\"relu\", \n",
    "                                   name=\"hidden_layer\"+str(i+1))(input_layer)\n",
    "            x = BatchNormalization()(x)\n",
    "        else:\n",
    "            x = keras.layers.Dense(units=n_units, \n",
    "                                   activation=\"relu\", \n",
    "                                   name=\"hidden_layer\"+str(i+1))(x)\n",
    "            x = BatchNormalization()(x)\n",
    "    \n",
    "    out = keras.layers.Dense(units=output_units, activation=\"softmax\", name=\"output\")(x)\n",
    "    \n",
    "    model = keras.models.Model(inputs=[input_layer], outputs=[out])\n",
    "    return model"
   ]
  },
  {
   "cell_type": "code",
   "execution_count": 6,
   "metadata": {},
   "outputs": [],
   "source": [
    "## 超參數設定\n",
    "LEARNING_RATE = 1e-3\n",
    "EPOCHS = 50\n",
    "BATCH_SIZE = 1024\n",
    "MOMENTUM = 0.95"
   ]
  },
  {
   "cell_type": "code",
   "execution_count": 7,
   "metadata": {},
   "outputs": [],
   "source": [
    "# 載入 Callbacks\n",
    "from keras.callbacks import ModelCheckpoint\n",
    "\n",
    "model_ckpt1 = ModelCheckpoint(filepath=\"./tmp1.h5\", \n",
    "                             monitor=\"val_loss\",\n",
    "                             save_weights_only = True,\n",
    "                             save_best_only=True)\n",
    "\n",
    "model_ckpt2 = ModelCheckpoint(filepath=\"./tmp2.h5\", \n",
    "                             monitor=\"val_loss\",\n",
    "                             save_weights_only = False,\n",
    "                             save_best_only=True)"
   ]
  },
  {
   "cell_type": "code",
   "execution_count": 8,
   "metadata": {},
   "outputs": [
    {
     "name": "stdout",
     "output_type": "stream",
     "text": [
      "Model: \"model_1\"\n",
      "_________________________________________________________________\n",
      "Layer (type)                 Output Shape              Param #   \n",
      "=================================================================\n",
      "input_1 (InputLayer)         (None, 3072)              0         \n",
      "_________________________________________________________________\n",
      "hidden_layer1 (Dense)        (None, 512)               1573376   \n",
      "_________________________________________________________________\n",
      "batch_normalization_1 (Batch (None, 512)               2048      \n",
      "_________________________________________________________________\n",
      "hidden_layer2 (Dense)        (None, 256)               131328    \n",
      "_________________________________________________________________\n",
      "batch_normalization_2 (Batch (None, 256)               1024      \n",
      "_________________________________________________________________\n",
      "hidden_layer3 (Dense)        (None, 128)               32896     \n",
      "_________________________________________________________________\n",
      "batch_normalization_3 (Batch (None, 128)               512       \n",
      "_________________________________________________________________\n",
      "output (Dense)               (None, 10)                1290      \n",
      "=================================================================\n",
      "Total params: 1,742,474\n",
      "Trainable params: 1,740,682\n",
      "Non-trainable params: 1,792\n",
      "_________________________________________________________________\n",
      "WARNING:tensorflow:From c:\\users\\raoblack\\documents\\tf\\lib\\site-packages\\keras\\backend\\tensorflow_backend.py:422: The name tf.global_variables is deprecated. Please use tf.compat.v1.global_variables instead.\n",
      "\n",
      "Train on 50000 samples, validate on 10000 samples\n",
      "Epoch 1/50\n",
      "50000/50000 [==============================] - 2s 48us/step - loss: 2.2370 - accuracy: 0.2684 - val_loss: 2.1497 - val_accuracy: 0.1919\n",
      "Epoch 2/50\n",
      "50000/50000 [==============================] - 2s 36us/step - loss: 1.7487 - accuracy: 0.3931 - val_loss: 1.9787 - val_accuracy: 0.2992\n",
      "Epoch 3/50\n",
      "50000/50000 [==============================] - 2s 36us/step - loss: 1.6199 - accuracy: 0.4363 - val_loss: 1.8381 - val_accuracy: 0.3704\n",
      "Epoch 4/50\n",
      "50000/50000 [==============================] - 2s 37us/step - loss: 1.5423 - accuracy: 0.4649 - val_loss: 1.7268 - val_accuracy: 0.4004\n",
      "Epoch 5/50\n",
      "50000/50000 [==============================] - 2s 37us/step - loss: 1.4862 - accuracy: 0.4841 - val_loss: 1.6264 - val_accuracy: 0.4459\n",
      "Epoch 6/50\n",
      "50000/50000 [==============================] - 2s 38us/step - loss: 1.4383 - accuracy: 0.5006 - val_loss: 1.5834 - val_accuracy: 0.4459\n",
      "Epoch 7/50\n",
      "50000/50000 [==============================] - 2s 37us/step - loss: 1.3988 - accuracy: 0.5114 - val_loss: 1.5413 - val_accuracy: 0.4590\n",
      "Epoch 8/50\n",
      "50000/50000 [==============================] - 2s 38us/step - loss: 1.3623 - accuracy: 0.5291 - val_loss: 1.5130 - val_accuracy: 0.4695\n",
      "Epoch 9/50\n",
      "50000/50000 [==============================] - 2s 38us/step - loss: 1.3272 - accuracy: 0.5407 - val_loss: 1.4954 - val_accuracy: 0.4743\n",
      "Epoch 10/50\n",
      "50000/50000 [==============================] - 2s 37us/step - loss: 1.2973 - accuracy: 0.5511 - val_loss: 1.4900 - val_accuracy: 0.4726\n",
      "Epoch 11/50\n",
      "50000/50000 [==============================] - 2s 36us/step - loss: 1.2689 - accuracy: 0.5610 - val_loss: 1.4890 - val_accuracy: 0.4790\n",
      "Epoch 12/50\n",
      "50000/50000 [==============================] - 2s 36us/step - loss: 1.2412 - accuracy: 0.5720 - val_loss: 1.4640 - val_accuracy: 0.4888\n",
      "Epoch 13/50\n",
      "50000/50000 [==============================] - 2s 36us/step - loss: 1.2157 - accuracy: 0.5792 - val_loss: 1.4670 - val_accuracy: 0.4844\n",
      "Epoch 14/50\n",
      "50000/50000 [==============================] - 2s 36us/step - loss: 1.1885 - accuracy: 0.5916 - val_loss: 1.4749 - val_accuracy: 0.4820\n",
      "Epoch 15/50\n",
      "50000/50000 [==============================] - 2s 36us/step - loss: 1.1637 - accuracy: 0.5999 - val_loss: 1.4536 - val_accuracy: 0.4920\n",
      "Epoch 16/50\n",
      "50000/50000 [==============================] - 2s 36us/step - loss: 1.1389 - accuracy: 0.6104 - val_loss: 1.4561 - val_accuracy: 0.4906\n",
      "Epoch 17/50\n",
      "50000/50000 [==============================] - 2s 37us/step - loss: 1.1173 - accuracy: 0.6174 - val_loss: 1.4574 - val_accuracy: 0.4874\n",
      "Epoch 18/50\n",
      "50000/50000 [==============================] - 2s 36us/step - loss: 1.0942 - accuracy: 0.6282 - val_loss: 1.4610 - val_accuracy: 0.4873\n",
      "Epoch 19/50\n",
      "50000/50000 [==============================] - 2s 36us/step - loss: 1.0721 - accuracy: 0.6358 - val_loss: 1.4588 - val_accuracy: 0.4888\n",
      "Epoch 20/50\n",
      "50000/50000 [==============================] - 2s 37us/step - loss: 1.0503 - accuracy: 0.6453 - val_loss: 1.4531 - val_accuracy: 0.4897\n",
      "Epoch 21/50\n",
      "50000/50000 [==============================] - 2s 36us/step - loss: 1.0285 - accuracy: 0.6526 - val_loss: 1.4632 - val_accuracy: 0.4861\n",
      "Epoch 22/50\n",
      "50000/50000 [==============================] - 2s 35us/step - loss: 1.0089 - accuracy: 0.6604 - val_loss: 1.4560 - val_accuracy: 0.4961\n",
      "Epoch 23/50\n",
      "50000/50000 [==============================] - 2s 36us/step - loss: 0.9874 - accuracy: 0.6695 - val_loss: 1.4545 - val_accuracy: 0.4940\n",
      "Epoch 24/50\n",
      "50000/50000 [==============================] - 2s 35us/step - loss: 0.9660 - accuracy: 0.6774 - val_loss: 1.4553 - val_accuracy: 0.4982\n",
      "Epoch 25/50\n",
      "50000/50000 [==============================] - 2s 38us/step - loss: 0.9463 - accuracy: 0.6846 - val_loss: 1.4572 - val_accuracy: 0.4923\n",
      "Epoch 26/50\n",
      "50000/50000 [==============================] - 2s 36us/step - loss: 0.9270 - accuracy: 0.6909 - val_loss: 1.4693 - val_accuracy: 0.4960\n",
      "Epoch 27/50\n",
      "50000/50000 [==============================] - 2s 36us/step - loss: 0.9046 - accuracy: 0.7011 - val_loss: 1.4716 - val_accuracy: 0.4969\n",
      "Epoch 28/50\n",
      "50000/50000 [==============================] - 2s 36us/step - loss: 0.8860 - accuracy: 0.7085 - val_loss: 1.4847 - val_accuracy: 0.4941\n",
      "Epoch 29/50\n",
      "50000/50000 [==============================] - 2s 36us/step - loss: 0.8669 - accuracy: 0.7154 - val_loss: 1.4825 - val_accuracy: 0.4979\n",
      "Epoch 30/50\n",
      "50000/50000 [==============================] - 2s 36us/step - loss: 0.8467 - accuracy: 0.7229 - val_loss: 1.4845 - val_accuracy: 0.4902\n",
      "Epoch 31/50\n",
      "50000/50000 [==============================] - 2s 36us/step - loss: 0.8271 - accuracy: 0.7301 - val_loss: 1.4890 - val_accuracy: 0.4912\n",
      "Epoch 32/50\n",
      "50000/50000 [==============================] - 2s 38us/step - loss: 0.8075 - accuracy: 0.7390 - val_loss: 1.4972 - val_accuracy: 0.4967\n",
      "Epoch 33/50\n",
      "50000/50000 [==============================] - 2s 38us/step - loss: 0.7875 - accuracy: 0.7472 - val_loss: 1.5092 - val_accuracy: 0.4915\n",
      "Epoch 34/50\n",
      "50000/50000 [==============================] - 2s 38us/step - loss: 0.7682 - accuracy: 0.7536 - val_loss: 1.5235 - val_accuracy: 0.4930\n",
      "Epoch 35/50\n",
      "50000/50000 [==============================] - 2s 36us/step - loss: 0.7493 - accuracy: 0.7622 - val_loss: 1.5159 - val_accuracy: 0.4913\n",
      "Epoch 36/50\n",
      "50000/50000 [==============================] - 2s 37us/step - loss: 0.7297 - accuracy: 0.7702 - val_loss: 1.5211 - val_accuracy: 0.4903\n",
      "Epoch 37/50\n",
      "50000/50000 [==============================] - 2s 36us/step - loss: 0.7138 - accuracy: 0.7752 - val_loss: 1.5262 - val_accuracy: 0.4885\n",
      "Epoch 38/50\n",
      "50000/50000 [==============================] - 2s 37us/step - loss: 0.6940 - accuracy: 0.7826 - val_loss: 1.5482 - val_accuracy: 0.4897\n",
      "Epoch 39/50\n",
      "50000/50000 [==============================] - 2s 36us/step - loss: 0.6760 - accuracy: 0.7909 - val_loss: 1.5782 - val_accuracy: 0.4828\n",
      "Epoch 40/50\n",
      "50000/50000 [==============================] - 2s 36us/step - loss: 0.6569 - accuracy: 0.7972 - val_loss: 1.5573 - val_accuracy: 0.4895\n",
      "Epoch 41/50\n",
      "50000/50000 [==============================] - 2s 38us/step - loss: 0.6400 - accuracy: 0.8046 - val_loss: 1.5821 - val_accuracy: 0.4848\n",
      "Epoch 42/50\n",
      "50000/50000 [==============================] - 2s 36us/step - loss: 0.6233 - accuracy: 0.8112 - val_loss: 1.5885 - val_accuracy: 0.4877\n",
      "Epoch 43/50\n",
      "50000/50000 [==============================] - 2s 38us/step - loss: 0.6052 - accuracy: 0.8174 - val_loss: 1.5829 - val_accuracy: 0.4889\n",
      "Epoch 44/50\n",
      "50000/50000 [==============================] - 2s 39us/step - loss: 0.5898 - accuracy: 0.8246 - val_loss: 1.6054 - val_accuracy: 0.4858\n",
      "Epoch 45/50\n"
     ]
    },
    {
     "name": "stdout",
     "output_type": "stream",
     "text": [
      "50000/50000 [==============================] - 2s 37us/step - loss: 0.5709 - accuracy: 0.8325 - val_loss: 1.6126 - val_accuracy: 0.4880\n",
      "Epoch 46/50\n",
      "50000/50000 [==============================] - 2s 36us/step - loss: 0.5545 - accuracy: 0.8371 - val_loss: 1.6185 - val_accuracy: 0.4906\n",
      "Epoch 47/50\n",
      "50000/50000 [==============================] - 2s 36us/step - loss: 0.5399 - accuracy: 0.8418 - val_loss: 1.6615 - val_accuracy: 0.4906\n",
      "Epoch 48/50\n",
      "50000/50000 [==============================] - 2s 38us/step - loss: 0.5237 - accuracy: 0.8502 - val_loss: 1.6524 - val_accuracy: 0.4878\n",
      "Epoch 49/50\n",
      "50000/50000 [==============================] - 2s 37us/step - loss: 0.5067 - accuracy: 0.8575 - val_loss: 1.6575 - val_accuracy: 0.4825\n",
      "Epoch 50/50\n",
      "50000/50000 [==============================] - 2s 38us/step - loss: 0.4892 - accuracy: 0.8637 - val_loss: 1.6908 - val_accuracy: 0.4859\n",
      "Model: \"model_2\"\n",
      "_________________________________________________________________\n",
      "Layer (type)                 Output Shape              Param #   \n",
      "=================================================================\n",
      "input_2 (InputLayer)         (None, 3072)              0         \n",
      "_________________________________________________________________\n",
      "hidden_layer1 (Dense)        (None, 512)               1573376   \n",
      "_________________________________________________________________\n",
      "batch_normalization_4 (Batch (None, 512)               2048      \n",
      "_________________________________________________________________\n",
      "hidden_layer2 (Dense)        (None, 256)               131328    \n",
      "_________________________________________________________________\n",
      "batch_normalization_5 (Batch (None, 256)               1024      \n",
      "_________________________________________________________________\n",
      "hidden_layer3 (Dense)        (None, 128)               32896     \n",
      "_________________________________________________________________\n",
      "batch_normalization_6 (Batch (None, 128)               512       \n",
      "_________________________________________________________________\n",
      "output (Dense)               (None, 10)                1290      \n",
      "=================================================================\n",
      "Total params: 1,742,474\n",
      "Trainable params: 1,740,682\n",
      "Non-trainable params: 1,792\n",
      "_________________________________________________________________\n",
      "Train on 50000 samples, validate on 10000 samples\n",
      "Epoch 1/50\n",
      "50000/50000 [==============================] - 2s 48us/step - loss: 2.2313 - accuracy: 0.2704 - val_loss: 2.1093 - val_accuracy: 0.2340\n",
      "Epoch 2/50\n",
      "50000/50000 [==============================] - 2s 37us/step - loss: 1.7509 - accuracy: 0.3917 - val_loss: 1.9549 - val_accuracy: 0.3265\n",
      "Epoch 3/50\n",
      "50000/50000 [==============================] - 2s 39us/step - loss: 1.6254 - accuracy: 0.4309 - val_loss: 1.8088 - val_accuracy: 0.3841\n",
      "Epoch 4/50\n",
      "50000/50000 [==============================] - 2s 37us/step - loss: 1.5506 - accuracy: 0.4585 - val_loss: 1.7103 - val_accuracy: 0.4144\n",
      "Epoch 5/50\n",
      "50000/50000 [==============================] - 2s 35us/step - loss: 1.4927 - accuracy: 0.4797 - val_loss: 1.6271 - val_accuracy: 0.4376\n",
      "Epoch 6/50\n",
      "50000/50000 [==============================] - 2s 35us/step - loss: 1.4472 - accuracy: 0.4951 - val_loss: 1.5859 - val_accuracy: 0.4458\n",
      "Epoch 7/50\n",
      "50000/50000 [==============================] - 2s 35us/step - loss: 1.4054 - accuracy: 0.5107 - val_loss: 1.5376 - val_accuracy: 0.4597\n",
      "Epoch 8/50\n",
      "50000/50000 [==============================] - 2s 36us/step - loss: 1.3685 - accuracy: 0.5239 - val_loss: 1.5207 - val_accuracy: 0.4630\n",
      "Epoch 9/50\n",
      "50000/50000 [==============================] - 2s 35us/step - loss: 1.3360 - accuracy: 0.5368 - val_loss: 1.5007 - val_accuracy: 0.4705\n",
      "Epoch 10/50\n",
      "50000/50000 [==============================] - 2s 36us/step - loss: 1.3054 - accuracy: 0.5466 - val_loss: 1.4857 - val_accuracy: 0.4759\n",
      "Epoch 11/50\n",
      "50000/50000 [==============================] - 2s 36us/step - loss: 1.2748 - accuracy: 0.5587 - val_loss: 1.4843 - val_accuracy: 0.4785\n",
      "Epoch 12/50\n",
      "50000/50000 [==============================] - 2s 36us/step - loss: 1.2472 - accuracy: 0.5689 - val_loss: 1.4844 - val_accuracy: 0.4777\n",
      "Epoch 13/50\n",
      "50000/50000 [==============================] - 2s 37us/step - loss: 1.2230 - accuracy: 0.5781 - val_loss: 1.4637 - val_accuracy: 0.4842\n",
      "Epoch 14/50\n",
      "50000/50000 [==============================] - 2s 36us/step - loss: 1.1965 - accuracy: 0.5867 - val_loss: 1.4669 - val_accuracy: 0.4831\n",
      "Epoch 15/50\n",
      "50000/50000 [==============================] - 2s 36us/step - loss: 1.1733 - accuracy: 0.5966 - val_loss: 1.4629 - val_accuracy: 0.4889\n",
      "Epoch 16/50\n",
      "50000/50000 [==============================] - 2s 37us/step - loss: 1.1479 - accuracy: 0.6083 - val_loss: 1.4741 - val_accuracy: 0.4820\n",
      "Epoch 17/50\n",
      "50000/50000 [==============================] - 2s 37us/step - loss: 1.1240 - accuracy: 0.6149 - val_loss: 1.4561 - val_accuracy: 0.4894\n",
      "Epoch 18/50\n",
      "50000/50000 [==============================] - 2s 37us/step - loss: 1.1027 - accuracy: 0.6237 - val_loss: 1.4509 - val_accuracy: 0.4916\n",
      "Epoch 19/50\n",
      "50000/50000 [==============================] - 2s 36us/step - loss: 1.0805 - accuracy: 0.6309 - val_loss: 1.4667 - val_accuracy: 0.4878\n",
      "Epoch 20/50\n",
      "50000/50000 [==============================] - 2s 36us/step - loss: 1.0577 - accuracy: 0.6403 - val_loss: 1.4609 - val_accuracy: 0.4922\n",
      "Epoch 21/50\n",
      "50000/50000 [==============================] - 2s 37us/step - loss: 1.0376 - accuracy: 0.6486 - val_loss: 1.4636 - val_accuracy: 0.4903\n",
      "Epoch 22/50\n",
      "50000/50000 [==============================] - 2s 36us/step - loss: 1.0157 - accuracy: 0.6571 - val_loss: 1.4863 - val_accuracy: 0.4872\n",
      "Epoch 23/50\n",
      "50000/50000 [==============================] - 2s 36us/step - loss: 0.9963 - accuracy: 0.6642 - val_loss: 1.4617 - val_accuracy: 0.5008\n",
      "Epoch 24/50\n",
      "50000/50000 [==============================] - 2s 36us/step - loss: 0.9752 - accuracy: 0.6733 - val_loss: 1.4687 - val_accuracy: 0.4871\n",
      "Epoch 25/50\n",
      "50000/50000 [==============================] - 2s 39us/step - loss: 0.9543 - accuracy: 0.6804 - val_loss: 1.4661 - val_accuracy: 0.4947\n",
      "Epoch 26/50\n",
      "50000/50000 [==============================] - 2s 36us/step - loss: 0.9329 - accuracy: 0.6875 - val_loss: 1.4709 - val_accuracy: 0.4930\n",
      "Epoch 27/50\n",
      "50000/50000 [==============================] - 2s 37us/step - loss: 0.9159 - accuracy: 0.6963 - val_loss: 1.4750 - val_accuracy: 0.4962\n",
      "Epoch 28/50\n",
      "50000/50000 [==============================] - 2s 37us/step - loss: 0.8968 - accuracy: 0.7019 - val_loss: 1.4758 - val_accuracy: 0.4956\n",
      "Epoch 29/50\n",
      "50000/50000 [==============================] - 2s 36us/step - loss: 0.8753 - accuracy: 0.7108 - val_loss: 1.4789 - val_accuracy: 0.4967\n",
      "Epoch 30/50\n",
      "50000/50000 [==============================] - 2s 36us/step - loss: 0.8552 - accuracy: 0.7187 - val_loss: 1.4900 - val_accuracy: 0.4944\n",
      "Epoch 31/50\n",
      "50000/50000 [==============================] - 2s 37us/step - loss: 0.8349 - accuracy: 0.7265 - val_loss: 1.4892 - val_accuracy: 0.4994\n",
      "Epoch 32/50\n",
      "50000/50000 [==============================] - 2s 37us/step - loss: 0.8159 - accuracy: 0.7333 - val_loss: 1.4967 - val_accuracy: 0.4918\n",
      "Epoch 33/50\n",
      "50000/50000 [==============================] - 2s 38us/step - loss: 0.7941 - accuracy: 0.7421 - val_loss: 1.5244 - val_accuracy: 0.4955\n",
      "Epoch 34/50\n",
      "50000/50000 [==============================] - 2s 38us/step - loss: 0.7759 - accuracy: 0.7498 - val_loss: 1.5042 - val_accuracy: 0.4969\n",
      "Epoch 35/50\n",
      "50000/50000 [==============================] - 2s 37us/step - loss: 0.7556 - accuracy: 0.7584 - val_loss: 1.5263 - val_accuracy: 0.4913\n",
      "Epoch 36/50\n",
      "50000/50000 [==============================] - 2s 37us/step - loss: 0.7381 - accuracy: 0.7653 - val_loss: 1.5115 - val_accuracy: 0.4968\n",
      "Epoch 37/50\n",
      "50000/50000 [==============================] - 2s 36us/step - loss: 0.7191 - accuracy: 0.7708 - val_loss: 1.5311 - val_accuracy: 0.4955\n",
      "Epoch 38/50\n",
      "50000/50000 [==============================] - 2s 37us/step - loss: 0.7002 - accuracy: 0.7799 - val_loss: 1.5369 - val_accuracy: 0.5004\n",
      "Epoch 39/50\n",
      "50000/50000 [==============================] - 2s 37us/step - loss: 0.6832 - accuracy: 0.7859 - val_loss: 1.5771 - val_accuracy: 0.4867\n",
      "Epoch 40/50\n"
     ]
    },
    {
     "name": "stdout",
     "output_type": "stream",
     "text": [
      "50000/50000 [==============================] - 2s 37us/step - loss: 0.6651 - accuracy: 0.7919 - val_loss: 1.5550 - val_accuracy: 0.4982\n",
      "Epoch 41/50\n",
      "50000/50000 [==============================] - 2s 37us/step - loss: 0.6462 - accuracy: 0.8002 - val_loss: 1.5685 - val_accuracy: 0.4975\n",
      "Epoch 42/50\n",
      "50000/50000 [==============================] - 2s 37us/step - loss: 0.6289 - accuracy: 0.8078 - val_loss: 1.5812 - val_accuracy: 0.4940\n",
      "Epoch 43/50\n",
      "50000/50000 [==============================] - 2s 37us/step - loss: 0.6099 - accuracy: 0.8169 - val_loss: 1.5943 - val_accuracy: 0.4962\n",
      "Epoch 44/50\n",
      "50000/50000 [==============================] - 2s 37us/step - loss: 0.5938 - accuracy: 0.8218 - val_loss: 1.6020 - val_accuracy: 0.4955\n",
      "Epoch 45/50\n",
      "50000/50000 [==============================] - 2s 36us/step - loss: 0.5763 - accuracy: 0.8279 - val_loss: 1.6130 - val_accuracy: 0.4931\n",
      "Epoch 46/50\n",
      "50000/50000 [==============================] - 2s 36us/step - loss: 0.5584 - accuracy: 0.8333 - val_loss: 1.6433 - val_accuracy: 0.4814\n",
      "Epoch 47/50\n",
      "50000/50000 [==============================] - 2s 36us/step - loss: 0.5424 - accuracy: 0.8425 - val_loss: 1.6553 - val_accuracy: 0.4823\n",
      "Epoch 48/50\n",
      "50000/50000 [==============================] - 2s 38us/step - loss: 0.5250 - accuracy: 0.8483 - val_loss: 1.6497 - val_accuracy: 0.4956\n",
      "Epoch 49/50\n",
      "50000/50000 [==============================] - 2s 39us/step - loss: 0.5082 - accuracy: 0.8544 - val_loss: 1.6587 - val_accuracy: 0.4853\n",
      "Epoch 50/50\n",
      "50000/50000 [==============================] - 2s 37us/step - loss: 0.4915 - accuracy: 0.8621 - val_loss: 1.6858 - val_accuracy: 0.4920\n"
     ]
    }
   ],
   "source": [
    "\"\"\"Code Here\n",
    "撰寫你的訓練流程並將結果用 dictionary 紀錄\n",
    "\"\"\"\n",
    "model_ckpts = [model_ckpt1, model_ckpt2]\n",
    "results = {}\n",
    "i = 1;\n",
    "for mckpt in model_ckpts:\n",
    "    model = build_mlp(input_shape=x_train.shape[1:])\n",
    "    model.summary()\n",
    "    optimizer = keras.optimizers.SGD(lr=LEARNING_RATE, nesterov=True, momentum=MOMENTUM)\n",
    "    model.compile(loss=\"categorical_crossentropy\", metrics=[\"accuracy\"], optimizer=optimizer)\n",
    "\n",
    "    model.fit(x_train, y_train, \n",
    "          epochs=EPOCHS, \n",
    "          batch_size=BATCH_SIZE, \n",
    "          validation_data=(x_test, y_test), \n",
    "          shuffle=True,\n",
    "          callbacks=[mckpt]\n",
    "         )\n",
    "    exp_name_tag = (\"exp-%s\" % (i))\n",
    "    results[exp_name_tag] = {'train-loss': model.history.history[\"loss\"],\n",
    "                             'valid-loss': model.history.history[\"val_loss\"],\n",
    "                             'train-acc': model.history.history[\"accuracy\"],\n",
    "                             'valid-acc': model.history.history[\"val_accuracy\"],\n",
    "                              }\n",
    "    i += 1"
   ]
  },
  {
   "cell_type": "code",
   "execution_count": 9,
   "metadata": {
    "scrolled": true
   },
   "outputs": [
    {
     "name": "stdout",
     "output_type": "stream",
     "text": [
      "10000/10000 [==============================] - 1s 74us/step\n",
      "10000/10000 [==============================] - 1s 82us/step\n"
     ]
    },
    {
     "data": {
      "image/png": "[encoded data removed]",
      "text/plain": [
       "<Figure size 432x288 with 1 Axes>"
      ]
     },
     "metadata": {
      "needs_background": "light"
     },
     "output_type": "display_data"
    },
    {
     "data": {
      "image/png": "[encoded data removed]",
      "text/plain": [
       "<Figure size 432x288 with 1 Axes>"
      ]
     },
     "metadata": {
      "needs_background": "light"
     },
     "output_type": "display_data"
    },
    {
     "data": {
      "image/png": "[encoded data removed]",
      "text/plain": [
       "<Figure size 432x288 with 1 Axes>"
      ]
     },
     "metadata": {
      "needs_background": "light"
     },
     "output_type": "display_data"
    },
    {
     "data": {
      "image/png": "[encoded data removed]",
      "text/plain": [
       "<Figure size 432x288 with 1 Axes>"
      ]
     },
     "metadata": {
      "needs_background": "light"
     },
     "output_type": "display_data"
    }
   ],
   "source": [
    "# Load back\n",
    "\n",
    "model = build_mlp(input_shape=x_train.shape[1:])\n",
    "optimizer = keras.optimizers.SGD(lr=LEARNING_RATE, nesterov=True, momentum=MOMENTUM)\n",
    "model.compile(loss=\"categorical_crossentropy\", metrics=[\"accuracy\"], optimizer=optimizer)\n",
    "model.load_weights(\"./tmp1.h5\")\n",
    "loss_loadback1, acc_loadback1 = model.evaluate(x_test, y_test)\n",
    "\n",
    "model = keras.models.load_model(\"./tmp2.h5\")\n",
    "loss_loadback2, acc_loadback2 = model.evaluate(x_test, y_test)\n",
    "\n",
    "loss_loadback_s = [loss_loadback1, loss_loadback2]\n",
    "acc_loadback_s = [acc_loadback1, acc_loadback2]\n",
    "\n",
    "import matplotlib.pyplot as plt\n",
    "%matplotlib inline\n",
    "\n",
    "for i, k in enumerate(results.keys()):\n",
    "    plt.plot(range(len(results[k]['train-loss'])), results[k]['train-loss'], label=\"train loss\")\n",
    "    plt.plot(range(len(results[k]['valid-loss'])), results[k]['valid-loss'], label=\"valid loss\")\n",
    "    plt.hlines(y=loss_loadback_s[i], xmin=0, xmax=len(results[k]['train-loss']), colors='r', linestyles='--')\n",
    "    plt.legend()\n",
    "    plt.title(\"Loss ()\")\n",
    "    plt.show()\n",
    "\n",
    "for i, k in enumerate(results.keys()):\n",
    "    plt.plot(range(len(results[k]['train-acc'])), results[k]['train-acc'], label=\"train accuracy\")\n",
    "    plt.plot(range(len(results[k]['valid-acc'])), results[k]['valid-acc'], label=\"valid accuracy\")\n",
    "    plt.hlines(y=acc_loadback_s[i], xmin=0, xmax=len(results[k]['train-acc']), colors='r', linestyles='--')\n",
    "    plt.legend()\n",
    "    plt.title(\"Accuracy\")\n",
    "    plt.show()"
   ]
  }
 ],
 "metadata": {
  "kernelspec": {
   "display_name": "Python 3",
   "language": "python",
   "name": "python3"
  },
  "language_info": {
   "codemirror_mode": {
    "name": "ipython",
    "version": 3
   },
   "file_extension": ".py",
   "mimetype": "text/x-python",
   "name": "python",
   "nbconvert_exporter": "python",
   "pygments_lexer": "ipython3",
   "version": "3.7.4"
  }
 },
 "nbformat": 4,
 "nbformat_minor": 2
}
