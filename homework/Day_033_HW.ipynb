{
 "cells": [
  {
   "cell_type": "markdown",
   "metadata": {},
   "source": [
    "## 練習時間"
   ]
  },
  {
   "cell_type": "markdown",
   "metadata": {},
   "source": [
    "請觀看李宏毅教授以神奇寶貝進化 CP 值預測的範例，解說何謂機器學習與過擬合。並回答以下問題"
   ]
  },
  {
   "cell_type": "markdown",
   "metadata": {},
   "source": [
    "[youtube](https://www.youtube.com/watch?v=fegAeph9UaA)"
   ]
  },
  {
   "cell_type": "markdown",
   "metadata": {},
   "source": [
    "### 1. 模型的泛化能力 (generalization) 是指什麼？ \n"
   ]
  },
  {
   "cell_type": "markdown",
   "metadata": {},
   "source": [
    "> 一個模型的generalization，是表示該模型對於Training data 並不會過於相關 <br>\n",
    "> 如果一個模型對於 Training data 過於相關，換句話說 overfitting , 將對於沒看過的 data 做出不好的預測<br>"
   ]
  },
  {
   "cell_type": "markdown",
   "metadata": {},
   "source": [
    "### 2. 分類問題與回歸問題分別可用的目標函數有哪些？"
   ]
  },
  {
   "cell_type": "markdown",
   "metadata": {},
   "source": [
    "> ### 分類問題的目標函數\n",
    "> * SVM:  <br> $\\frac{1}{2}\\| w \\|^2$\n",
    "> * SVM with soft margin: <br> $\\frac{1}{2}\\| w \\|^2 + C \\sum_{i=1}^N \\xi_i$\n",
    "> * Logistic Regression: <br> $\\sum_{i=1}^N (\\log(1+e^{w^\\top x^i}) - y^i w^\\top x^i)$\n",
    "\n",
    "> ### 回歸問題的目標函數\n",
    "> * Linear Regression: <br> $\\sum_{i=1}^N \\| y^i - (w_1x^i+b)\\|^2$\n",
    "> * Qraduatic Regeression: <br> $\\sum_{i=1}^N \\| y^i - (w_1x^i + w_2(x^i)^2 +b)\\|^2$\n",
    "> * Least Square Model with LASSO: <br> $\\frac{1}{N}( \\sum_{i=1}^N \\| y^i - w^\\top x^i \\|^2) + \\lambda \\|w \\|_1^2$"
   ]
  }
 ],
 "metadata": {
  "kernelspec": {
   "display_name": "Python 3",
   "language": "python",
   "name": "python3"
  },
  "language_info": {
   "codemirror_mode": {
    "name": "ipython",
    "version": 3
   },
   "file_extension": ".py",
   "mimetype": "text/x-python",
   "name": "python",
   "nbconvert_exporter": "python",
   "pygments_lexer": "ipython3",
   "version": "3.7.4"
  }
 },
 "nbformat": 4,
 "nbformat_minor": 2
}
