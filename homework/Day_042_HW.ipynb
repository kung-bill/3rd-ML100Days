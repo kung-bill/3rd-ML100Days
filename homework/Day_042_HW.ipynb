{
 "cells": [
  {
   "cell_type": "markdown",
   "metadata": {},
   "source": [
    "## 建立模型四步驟\n",
    "\n",
    "在 Scikit-learn 中，建立一個機器學習的模型其實非常簡單，流程大略是以下四個步驟\n",
    "\n",
    "1. 讀進資料，並檢查資料的 shape (有多少 samples (rows), 多少 features (columns)，label 的型態是什麼？)\n",
    "    - 讀取資料的方法：\n",
    "        - **使用 pandas 讀取 .csv 檔：**pd.read_csv\n",
    "        - **使用 numpy 讀取 .txt 檔：**np.loadtxt \n",
    "        - **使用 Scikit-learn 內建的資料集：**sklearn.datasets.load_xxx\n",
    "    - **檢查資料數量：**data.shape (data should be np.array or dataframe)\n",
    "2. 將資料切為訓練 (train) / 測試 (test)\n",
    "    - train_test_split(data)\n",
    "3. 建立模型，將資料 fit 進模型開始訓練\n",
    "    - clf = DecisionTreeClassifier()\n",
    "    - clf.fit(x_train, y_train)\n",
    "4. 將測試資料 (features) 放進訓練好的模型中，得到 prediction，與測試資料的 label (y_test) 做評估\n",
    "    - clf.predict(x_test)\n",
    "    - accuracy_score(y_test, y_pred)\n",
    "    - f1_score(y_test, y_pred)"
   ]
  },
  {
   "cell_type": "markdown",
   "metadata": {},
   "source": [
    "## [作業重點]\n",
    "目前你應該已經要很清楚資料集中，資料的型態是什麼樣子囉！包含特徵 (features) 與標籤 (labels)。因此要記得未來不管什麼專案，必須要把資料清理成相同的格式，才能送進模型訓練。\n",
    "今天的作業開始踏入決策樹這個非常重要的模型，請務必確保你理解模型中每個超參數的意思，並試著調整看看，對最終預測結果的影響為何"
   ]
  },
  {
   "cell_type": "markdown",
   "metadata": {},
   "source": [
    "## 作業\n",
    "\n",
    "1. 試著調整 DecisionTreeClassifier(...) 中的參數，並觀察是否會改變結果？\n",
    "2. 改用其他資料集 (boston, wine)，並與回歸模型的結果進行比較"
   ]
  },
  {
   "cell_type": "code",
   "execution_count": 1,
   "metadata": {},
   "outputs": [],
   "source": [
    "from sklearn import datasets, metrics\n",
    "import matplotlib.pyplot as plt\n",
    "import numpy as np\n",
    "\n",
    "# 如果是分類問題，請使用 DecisionTreeClassifier，若為回歸問題，請使用 DecisionTreeRegressor\n",
    "from sklearn.tree import DecisionTreeClassifier, DecisionTreeRegressor\n",
    "from sklearn import linear_model\n",
    "from sklearn.model_selection import train_test_split\n",
    "\n",
    "%matplotlib inline "
   ]
  },
  {
   "cell_type": "markdown",
   "metadata": {},
   "source": [
    "### 1. 試著調整 DecisionTreeClassifier(...) 中的參數，並觀察是否會改變結果？"
   ]
  },
  {
   "cell_type": "code",
   "execution_count": 2,
   "metadata": {},
   "outputs": [
    {
     "name": "stdout",
     "output_type": "stream",
     "text": [
      "Acuuracy:  0.9736842105263158\n",
      "['sepal length (cm)', 'sepal width (cm)', 'petal length (cm)', 'petal width (cm)']\n",
      "Feature importance:  [0.03233879 0.02358037 0.49642284 0.447658  ]\n"
     ]
    }
   ],
   "source": [
    "# 讀取鳶尾花資料集\n",
    "iris = datasets.load_iris()\n",
    "\n",
    "# 切分訓練集/測試集\n",
    "x_train, x_test, y_train, y_test = train_test_split(iris.data, iris.target, test_size=0.25, random_state=4)\n",
    "\n",
    "# 建立模型\n",
    "\n",
    "# clf = DecisionTreeClassifier() #default  (criterion=\"gini\")\n",
    "# clf = DecisionTreeClassifier(criterion=\"entropy\") #criterion=\"entropy\"\n",
    "clf = DecisionTreeClassifier(criterion=\"gini\", splitter=\"random\") # splitter=\"random\n",
    "\n",
    "# 訓練模型\n",
    "clf.fit(x_train, y_train)\n",
    "\n",
    "# 預測測試集\n",
    "y_pred = clf.predict(x_test)\n",
    "\n",
    "acc = metrics.accuracy_score(y_test, y_pred)\n",
    "print(\"Acuuracy: \", acc)\n",
    "print(iris.feature_names)\n",
    "print(\"Feature importance: \", clf.feature_importances_)"
   ]
  },
  {
   "cell_type": "markdown",
   "metadata": {},
   "source": [
    "### 2. 改用其他資料集 (boston, wine)，並與回歸模型的結果進行比較"
   ]
  },
  {
   "cell_type": "markdown",
   "metadata": {},
   "source": [
    "### wine 酒類分類\n",
    "**1. Logistic Regression**"
   ]
  },
  {
   "cell_type": "code",
   "execution_count": 3,
   "metadata": {},
   "outputs": [
    {
     "name": "stderr",
     "output_type": "stream",
     "text": [
      "c:\\users\\raoblack\\documents\\100ai\\lib\\site-packages\\sklearn\\linear_model\\logistic.py:469: FutureWarning: Default multi_class will be changed to 'auto' in 0.22. Specify the multi_class option to silence this warning.\n",
      "  \"this warning.\", FutureWarning)\n"
     ]
    },
    {
     "name": "stdout",
     "output_type": "stream",
     "text": [
      "Accuracy:  0.9777777777777777\n"
     ]
    }
   ],
   "source": [
    "# 讀取 wine 酒類分類資料集\n",
    "wine = datasets.load_wine()\n",
    "\n",
    "# 切分訓練集/測試集\n",
    "x_train, x_test, y_train, y_test = train_test_split(wine.data, wine.target, test_size=0.25, random_state=4)\n",
    "\n",
    "# 建立模型\n",
    "logreg = linear_model.LogisticRegression(solver='newton-cg')\n",
    "\n",
    "# 訓練模型\n",
    "logreg.fit(x_train, y_train)\n",
    "\n",
    "# 預測測試集\n",
    "y_pred = logreg.predict(x_test)\n",
    "\n",
    "acc = metrics.accuracy_score(y_test, y_pred)\n",
    "print(\"Accuracy: \", acc)"
   ]
  },
  {
   "cell_type": "markdown",
   "metadata": {},
   "source": [
    "### wine 酒類分類\n",
    "**2. DecisionTreeClassifier**"
   ]
  },
  {
   "cell_type": "code",
   "execution_count": 4,
   "metadata": {},
   "outputs": [
    {
     "name": "stdout",
     "output_type": "stream",
     "text": [
      "Acuuracy:  0.9777777777777777\n",
      "Feature importance:  [0.         0.01571782 0.         0.01794699 0.         0.\n",
      " 0.41359716 0.         0.         0.2188998  0.         0.\n",
      " 0.33383822]\n"
     ]
    }
   ],
   "source": [
    "# 讀取 wine 酒類分類資料集\n",
    "wine = datasets.load_wine()\n",
    "\n",
    "# 切分訓練集/測試集\n",
    "x_train, x_test, y_train, y_test = train_test_split(wine.data, wine.target, test_size=0.25, random_state=4)\n",
    "\n",
    "# 建立模型\n",
    "clf = DecisionTreeClassifier(criterion=\"entropy\") #criterion=\"entropy\"\n",
    "\n",
    "# 訓練模型\n",
    "clf.fit(x_train, y_train)\n",
    "\n",
    "# 預測測試集\n",
    "y_pred = clf.predict(x_test)\n",
    "\n",
    "acc = metrics.accuracy_score(y_test, y_pred)\n",
    "print(\"Acuuracy: \", acc)\n",
    "print(\"Feature importance: \", clf.feature_importances_)"
   ]
  },
  {
   "cell_type": "markdown",
   "metadata": {},
   "source": [
    "### boston 房價預測\n",
    "**1. linear regression**"
   ]
  },
  {
   "cell_type": "code",
   "execution_count": 5,
   "metadata": {},
   "outputs": [
    {
     "name": "stdout",
     "output_type": "stream",
     "text": [
      "Mean squared error: 26.95\n"
     ]
    }
   ],
   "source": [
    "# 讀取boston房價預測資料集\n",
    "boston = datasets.load_boston()\n",
    "\n",
    "# 切分訓練集/測試集\n",
    "x_train, x_test, y_train, y_test = train_test_split(boston.data, boston.target, test_size=0.25, random_state=4)\n",
    "\n",
    "# 建立模型\n",
    "regr = linear_model.LinearRegression()\n",
    "\n",
    "# 訓練模型\n",
    "regr.fit(x_train, y_train)\n",
    "\n",
    "# 將測試資料丟進模型得到預測結果\n",
    "y_pred = regr.predict(x_test)\n",
    "\n",
    "# 預測值與實際值的差距，使用 MSE\n",
    "print(\"Mean squared error: %.2f\"\n",
    "      % metrics.mean_squared_error(y_test, y_pred))"
   ]
  },
  {
   "cell_type": "markdown",
   "metadata": {},
   "source": [
    "### boston 房價預測\n",
    "**2. DecisionTree Regression**"
   ]
  },
  {
   "cell_type": "code",
   "execution_count": 6,
   "metadata": {},
   "outputs": [
    {
     "name": "stdout",
     "output_type": "stream",
     "text": [
      "Mean squared error: 25.56\n"
     ]
    }
   ],
   "source": [
    "# 讀取boston房價預測資料集\n",
    "boston = datasets.load_boston()\n",
    "\n",
    "# 切分訓練集/測試集\n",
    "x_train, x_test, y_train, y_test = train_test_split(boston.data, boston.target, test_size=0.25, random_state=4)\n",
    "\n",
    "# 建立模型\n",
    "rlf = DecisionTreeRegressor()\n",
    "\n",
    "# 訓練模型\n",
    "rlf.fit(x_train, y_train)\n",
    "\n",
    "# 預測測試集\n",
    "y_pred = rlf.predict(x_test)\n",
    "\n",
    "# 預測值與實際值的差距，使用 MSE\n",
    "print(\"Mean squared error: %.2f\"\n",
    "      % metrics.mean_squared_error(y_test, y_pred))"
   ]
  },
  {
   "cell_type": "markdown",
   "metadata": {},
   "source": [
    "### boston 房價預測 (2D 可視化)"
   ]
  },
  {
   "cell_type": "code",
   "execution_count": 7,
   "metadata": {},
   "outputs": [],
   "source": [
    "# 讀取boston房價預測資料集\n",
    "boston = datasets.load_boston()\n",
    "\n",
    "data_1d = boston.data[:, [6]]#為了方便繪圖，只選擇其中一個 feature\n",
    "\n",
    "# 切分訓練集/測試集\n",
    "x_train, x_test, y_train, y_test = train_test_split(data_1d, boston.target, test_size=0.25, random_state=4)"
   ]
  },
  {
   "cell_type": "markdown",
   "metadata": {},
   "source": [
    "**1. linear regression**"
   ]
  },
  {
   "cell_type": "code",
   "execution_count": 8,
   "metadata": {},
   "outputs": [
    {
     "name": "stdout",
     "output_type": "stream",
     "text": [
      "Mean squared error of ordinary least square: 89.48\n"
     ]
    },
    {
     "data": {
      "image/png": "[encoded data removed]",
      "text/plain": [
       "<Figure size 432x288 with 1 Axes>"
      ]
     },
     "metadata": {
      "needs_background": "light"
     },
     "output_type": "display_data"
    }
   ],
   "source": [
    "# 建立 Ordinary Least Square Regressor\n",
    "regr = linear_model.LinearRegression()\n",
    "\n",
    "# 訓練模型\n",
    "regr.fit(x_train, y_train)\n",
    "\n",
    "# 預測測試集\n",
    "y_pred_linear = regr.predict(x_test)\n",
    "\n",
    "print(\"Mean squared error of ordinary least square: %.2f\"\n",
    "      % metrics.mean_squared_error(y_test, y_pred_linear))\n",
    "\n",
    "# 畫出回歸模型與實際資料的分佈\n",
    "plt.scatter(x_test, y_test,  color='black')\n",
    "plt.plot(x_test, y_pred_linear, color='blue', linewidth=3, label='Linear Regression')\n",
    "plt.show()"
   ]
  },
  {
   "cell_type": "markdown",
   "metadata": {},
   "source": [
    "**2. DecisionTree Regression**"
   ]
  },
  {
   "cell_type": "code",
   "execution_count": 14,
   "metadata": {},
   "outputs": [
    {
     "name": "stdout",
     "output_type": "stream",
     "text": [
      "[[100. ]\n",
      " [ 22.9]\n",
      " [ 36.8]\n",
      " [ 88.6]\n",
      " [ 86.5]\n",
      " [  6.6]\n",
      " [ 21.9]\n",
      " [ 84. ]\n",
      " [100. ]\n",
      " [ 96. ]\n",
      " [ 28.1]\n",
      " [ 58.7]\n",
      " [ 37.8]\n",
      " [ 92.6]\n",
      " [ 58.8]\n",
      " [ 94.1]\n",
      " [ 82.9]\n",
      " [ 77.8]\n",
      " [100. ]\n",
      " [ 85.7]\n",
      " [100. ]\n",
      " [ 98.5]\n",
      " [ 95.8]\n",
      " [ 97.1]\n",
      " [ 48.5]\n",
      " [ 87.4]\n",
      " [100. ]\n",
      " [ 94.7]\n",
      " [ 74.8]\n",
      " [ 91.9]\n",
      " [ 78.1]\n",
      " [ 32. ]\n",
      " [ 94.5]\n",
      " [ 69.7]\n",
      " [ 97. ]\n",
      " [ 98.8]\n",
      " [ 63.1]\n",
      " [ 17. ]\n",
      " [ 67.8]\n",
      " [  7.8]\n",
      " [ 15.7]\n",
      " [ 97.4]\n",
      " [100. ]\n",
      " [  9.9]\n",
      " [ 88.5]\n",
      " [ 31.1]\n",
      " [ 32. ]\n",
      " [ 85.5]\n",
      " [ 83. ]\n",
      " [ 52.5]\n",
      " [ 27.9]\n",
      " [ 95.2]\n",
      " [100. ]\n",
      " [ 31.1]\n",
      " [ 98.4]\n",
      " [ 82.6]\n",
      " [ 79.9]\n",
      " [ 42.8]\n",
      " [ 36.6]\n",
      " [ 32.9]\n",
      " [ 95.4]\n",
      " [ 91.1]\n",
      " [ 29.1]\n",
      " [ 83.5]\n",
      " [ 52.6]\n",
      " [ 29.7]\n",
      " [ 96.8]\n",
      " [100. ]\n",
      " [ 79.8]\n",
      " [ 51.9]\n",
      " [ 22.3]\n",
      " [ 66.6]\n",
      " [ 43.4]\n",
      " [ 42.2]\n",
      " [ 97. ]\n",
      " [ 59.5]\n",
      " [ 97.9]\n",
      " [ 87.3]\n",
      " [ 78.7]\n",
      " [ 85.4]\n",
      " [ 33.8]\n",
      " [ 93.6]\n",
      " [ 33.5]\n",
      " [ 84.5]\n",
      " [ 32.1]\n",
      " [ 80.8]\n",
      " [ 49.3]\n",
      " [ 70.6]\n",
      " [ 53.8]\n",
      " [ 64.5]\n",
      " [ 21.4]\n",
      " [ 33.2]\n",
      " [ 71.7]\n",
      " [ 73.3]\n",
      " [ 43.7]\n",
      " [ 76.7]\n",
      " [ 61.5]\n",
      " [100. ]\n",
      " [ 97.8]\n",
      " [ 46.3]\n",
      " [100. ]\n",
      " [ 56. ]\n",
      " [ 26.3]\n",
      " [ 98.2]\n",
      " [  8.9]\n",
      " [ 61.8]\n",
      " [ 34.2]\n",
      " [ 10. ]\n",
      " [ 83.3]\n",
      " [ 53.6]\n",
      " [ 92.4]\n",
      " [ 88. ]\n",
      " [  9.8]\n",
      " [ 30.8]\n",
      " [ 49. ]\n",
      " [ 89.8]\n",
      " [ 93.9]\n",
      " [ 95.3]\n",
      " [ 98. ]\n",
      " [ 93.4]\n",
      " [ 74.5]\n",
      " [ 98.9]\n",
      " [ 18.5]\n",
      " [ 18.4]\n",
      " [ 74.3]\n",
      " [ 84.4]\n",
      " [ 96.2]]\n",
      "Mean squared error of Decision Tree Regression: 159.66\n"
     ]
    },
    {
     "data": {
      "image/png": "[encoded data removed]",
      "text/plain": [
       "<Figure size 432x288 with 1 Axes>"
      ]
     },
     "metadata": {
      "needs_background": "light"
     },
     "output_type": "display_data"
    }
   ],
   "source": [
    "# 建立 Decision Tree Regressor\n",
    "rlf = DecisionTreeRegressor()\n",
    "\n",
    "# 訓練模型\n",
    "rlf.fit(x_train, y_train)\n",
    "\n",
    "#x_test 排序 (為了可視化，因為 Decision Tree Regressor 並不會產生一條直線)\n",
    "#y_test 要按照 x_test 的大小次序排列\n",
    "# Test_zip = zip(x_test.ravel(), y_test.ravel())\n",
    "# Test_sorted = sorted(Test_zip)\n",
    "\n",
    "# x_test_sorted, y_test_sorted = zip(*Test_sorted)\n",
    "\n",
    "x_test_sorted = np.sort(x_test)\n",
    "\n",
    "# x_test_sorted = np.array(x_test_sorted)\n",
    "# y_test_sorted = np.array(y_test_sorted)\n",
    "\n",
    "print(x_test_sorted)\n",
    "# 預測測試集\n",
    "y_pred_rlf = rlf.predict(x_test_sorted)\n",
    "\n",
    "print(\"Mean squared error of Decision Tree Regression: %.2f\"\n",
    "      % metrics.mean_squared_error(y_test, y_pred_rlf))\n",
    "\n",
    "# 畫出回歸模型與實際資料的分佈\n",
    "plt.scatter(x_test, y_test,  color='black')\n",
    "plt.plot(x_test_sorted, y_pred_rlf, color='blue', linewidth=3, label='Decision Tree Regression')\n",
    "plt.legend()\n",
    "plt.show()"
   ]
  }
 ],
 "metadata": {
  "kernelspec": {
   "display_name": "Python 3",
   "language": "python",
   "name": "python3"
  },
  "language_info": {
   "codemirror_mode": {
    "name": "ipython",
    "version": 3
   },
   "file_extension": ".py",
   "mimetype": "text/x-python",
   "name": "python",
   "nbconvert_exporter": "python",
   "pygments_lexer": "ipython3",
   "version": "3.7.4"
  }
 },
 "nbformat": 4,
 "nbformat_minor": 2
}
