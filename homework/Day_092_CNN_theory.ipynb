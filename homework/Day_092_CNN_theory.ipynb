{
 "cells": [
  {
   "cell_type": "markdown",
   "metadata": {},
   "source": [
    "請閱讀以下文獻，理解 CNN 原理後回答問題\n",
    "- [卷積神經網路原理 - 中文](https://brohrer.mcknote.com/zh-Hant/how_machine_learning_works/how_convolutional_neural_networks_work.html)\n",
    "- [CNN for beginner’s guide](https://adeshpande3.github.io/A-Beginner%27s-Guide-To-Understanding-Convolutional-Neural-Networks/)"
   ]
  },
  {
   "cell_type": "markdown",
   "metadata": {},
   "source": [
    "1. 若使用總共 128 個濾波器 (filters)，對一張 256x256 的影像做完卷積後，共會得到幾張特徵圖 (feature maps)？\n",
    "> 總共產生128個 feature maps<br>\n",
    "> CNN 會將這些 feature maps 疊起來變成一個厚度為 128 的3D矩陣，然後傳到下一層的神經網路中，通常是傳到 Max pooling layers\n",
    "2. 卷積神經網路中，濾波器的大小 (3x3 or 5x5) 與內部數字的值 (value) 是怎麼決定的呢？\n",
    "> filter的大小(3x3 or 5x5)是一個參數，需要在 training 之前給定。<br>\n",
    "> 每一個filter可以看成一個特殊的神經元結構，同一個filter會slide過整張大圖片，圖片的每一個位置，用相同權重的filter跟圖片某個小部分做convolution。<br>\n",
    "> 可以透過多個neural共用權重來實作一個filter的行為。 <br>\n",
    "> Filter可以看成一種參數比較少(共用權重)的特殊神經網路結構(可back propagation)。"
   ]
  }
 ],
 "metadata": {
  "kernelspec": {
   "display_name": "Python 3",
   "language": "python",
   "name": "python3"
  },
  "language_info": {
   "codemirror_mode": {
    "name": "ipython",
    "version": 3
   },
   "file_extension": ".py",
   "mimetype": "text/x-python",
   "name": "python",
   "nbconvert_exporter": "python",
   "pygments_lexer": "ipython3",
   "version": "3.7.4"
  }
 },
 "nbformat": 4,
 "nbformat_minor": 2
}
