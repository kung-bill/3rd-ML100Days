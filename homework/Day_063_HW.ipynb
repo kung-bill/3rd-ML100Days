{
 "cells": [
  {
   "cell_type": "markdown",
   "metadata": {},
   "source": [
    "# 作業\n",
    "* 在精簡深度學習的方式上 : 卷積類神經 (CNN) 採用像素遠近，而遞歸類神經 (RNN) 採用著則是時間遠近\n",
    "* 那麼，既然有著類似的設計精神，兩者是否有可能互換應用呢?"
   ]
  },
  {
   "cell_type": "markdown",
   "metadata": {
    "collapsed": true
   },
   "source": [
    "> ### CNN 與 RNN 的相同點： <br>\n",
    "> * 都是以神經元為單元的網路構造　<br>\n",
    "> * 都是 forward 計算預測結果，透過backpropagation 來訓練模型 <br>\n",
    "> * 每一層的神經元可以有多個橫向並存，縱向可以連接多個神經元 <br>\n",
    "\n",
    "> ### CNN 與 RNN 的相異點： <br>\n",
    "> * CNN是空間擴展，利用convolution來解釋空間中相近的pixel<br>\n",
    "> * RNN是時間擴展，可以用於描述時間上連續狀態的輸出，有記憶的功能 <br>\n",
    "> * CNN深度可以達到100多層，RNN深度有限 <br>\n",
    "\n",
    "> ### CNN與RNN互換應用的可能： <br>\n",
    "> 因為 CNN 與 RNN 網路的架構的差異，有各自擅長的Task。<br> 若是要硬是使用CNN做語音辨識或用RNN做影像辨識，也不是不行，只是有效率的問題。<br> \n",
    "> CNN + RNN 可以產生一些有趣的應用 <br>\n",
    "> 例如給一張圖片與一段句子，CNN+RNN可以做到將圖片中含有該句子提到的物品標註出來。"
   ]
  },
  {
   "cell_type": "code",
   "execution_count": null,
   "metadata": {},
   "outputs": [],
   "source": []
  },
  {
   "cell_type": "code",
   "execution_count": null,
   "metadata": {},
   "outputs": [],
   "source": []
  }
 ],
 "metadata": {
  "kernelspec": {
   "display_name": "Python 3",
   "language": "python",
   "name": "python3"
  },
  "language_info": {
   "codemirror_mode": {
    "name": "ipython",
    "version": 3
   },
   "file_extension": ".py",
   "mimetype": "text/x-python",
   "name": "python",
   "nbconvert_exporter": "python",
   "pygments_lexer": "ipython3",
   "version": "3.7.4"
  }
 },
 "nbformat": 4,
 "nbformat_minor": 2
}
