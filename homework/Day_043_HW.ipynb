{
 "cells": [
  {
   "cell_type": "markdown",
   "metadata": {},
   "source": [
    "## [作業重點]\n",
    "了解隨機森林改善了決策樹的什麼缺點？是用什麼方法改進的？"
   ]
  },
  {
   "cell_type": "markdown",
   "metadata": {},
   "source": [
    "## 作業\n",
    "\n",
    "閱讀以下兩篇文獻，了解隨機森林原理，並試著回答後續的思考問題\n",
    "- [隨機森林 (random forest) - 中文](http://hhtucode.blogspot.tw/2013/06/ml-random-forest.html)\n",
    "- [how random forest works - 英文](https://medium.com/@Synced/how-random-forest-algorithm-works-in-machine-learning-3c0fe15b6674)"
   ]
  },
  {
   "cell_type": "markdown",
   "metadata": {},
   "source": [
    "\n",
    "1. 隨機森林中的每一棵樹，是希望能夠\n",
    "\n",
    "    - 沒有任何限制，讓樹可以持續生長 (讓樹生成很深，讓模型變得複雜)\n",
    "    \n",
    "    - 不要過度生長，避免 Overfitting\n",
    "    \n",
    "    \n",
    "2. 假設總共有 N 筆資料，每棵樹用取後放回的方式抽了總共 N 筆資料生成，請問這棵樹大約使用了多少 % 不重複的原資料生成?\n",
    "hint: 0.632 bootstrap\n"
   ]
  },
  {
   "cell_type": "markdown",
   "metadata": {},
   "source": [
    "### 1. 隨機森林中的每一棵樹，是希望能夠\n",
    "\n",
    "> * 不要過度生長，避免 Overfitting"
   ]
  },
  {
   "cell_type": "markdown",
   "metadata": {},
   "source": [
    "### 2. 假設總共有 N 筆資料，每棵樹用取後放回的方式抽了總共 N 筆資料生成，請問這棵樹大約使用了多少 % 不重複的原資料生成?\n",
    "> 每一次取後放回，某一個樣本被取到的機率為：\n",
    "> $$\\frac{1}{N}$$\n",
    "> 沒有被取到的機率為：\n",
    "> $$1-\\frac{1}{N}$$\n",
    "> 對於任一個樣本，取後放回 $N$ 次，均沒有被取到的機率為:\n",
    "> $$\\left( 1-\\frac{1}{N}\\right)^N$$\n",
    "> 對於任一個樣本，取後放回 $N$ 次，至少被抽種一次的機率:\n",
    "> $$1  - \\left( 1-\\frac{1}{N}\\right)^N$$\n",
    "> 當 $N \\rightarrow \\infty$ 時候，對於任一個樣本，取後放回 $N$ 次， 至少被抽中一次的機率：\n",
    "> $$\\lim_{N \\rightarrow \\infty} \\left( 1  - \\left(1-\\frac{1}{N}\\right)^N \\right) = 1 - \\frac{1}{e} \\approx 0.632$$"
   ]
  }
 ],
 "metadata": {
  "kernelspec": {
   "display_name": "Python 3",
   "language": "python",
   "name": "python3"
  },
  "language_info": {
   "codemirror_mode": {
    "name": "ipython",
    "version": 3
   },
   "file_extension": ".py",
   "mimetype": "text/x-python",
   "name": "python",
   "nbconvert_exporter": "python",
   "pygments_lexer": "ipython3",
   "version": "3.7.3"
  }
 },
 "nbformat": 4,
 "nbformat_minor": 2
}
