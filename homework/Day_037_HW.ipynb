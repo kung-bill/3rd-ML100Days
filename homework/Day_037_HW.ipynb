{
 "cells": [
  {
   "cell_type": "markdown",
   "metadata": {},
   "source": [
    "## [作業重點]\n",
    "了解線性回歸的模型發展歷程，並了解優勢與劣勢，以及其使用情境"
   ]
  },
  {
   "cell_type": "markdown",
   "metadata": {},
   "source": [
    "## 作業"
   ]
  },
  {
   "cell_type": "markdown",
   "metadata": {},
   "source": [
    "請閱讀以下相關文獻，並回答以下問題\n",
    "\n",
    "[Linear Regression 詳細介紹](https://brohrer.mcknote.com/zh-Hant/how_machine_learning_works/how_linear_regression_works.html)\n",
    "\n",
    "[Logistics Regression 詳細介紹](https://medium.com/@yehjames/%E8%B3%87%E6%96%99%E5%88%86%E6%9E%90-%E6%A9%9F%E5%99%A8%E5%AD%B8%E7%BF%92-%E7%AC%AC3-3%E8%AC%9B-%E7%B7%9A%E6%80%A7%E5%88%86%E9%A1%9E-%E9%82%8F%E8%BC%AF%E6%96%AF%E5%9B%9E%E6%AD%B8-logistic-regression-%E4%BB%8B%E7%B4%B9-a1a5f47017e5)\n"
   ]
  },
  {
   "cell_type": "markdown",
   "metadata": {},
   "source": [
    "1. 線性回歸模型能夠準確預測非線性關係的資料集嗎?\n",
    "> 線性回歸有其限制，無法準確地預測非線性資料 <br>\n",
    "> 可透過一個轉換函數，將原本的data轉到一個比較像線性關係的空間 <br>\n",
    "> 然後就可以用，線性回歸模型來預測，這個轉換函數有時候也稱作 kernal "
   ]
  },
  {
   "cell_type": "markdown",
   "metadata": {},
   "source": [
    "2. 回歸模型是否對資料分布有基本假設?\n",
    "> Logistics Regression 比較常用於二元非類問題 <br>\n",
    "> Logistics Regression 的假設：\n",
    "> * 輸出為只能有 0 或 1\n",
    "> * 每個樣本互相獨立\n",
    "> * 成功機率滿足 $\\text{Pr}(Y=1|\\beta) = \\frac{1}{1 + e^{-\\beta^\\top x}}$"
   ]
  }
 ],
 "metadata": {
  "kernelspec": {
   "display_name": "Python 3",
   "language": "python",
   "name": "python3"
  },
  "language_info": {
   "codemirror_mode": {
    "name": "ipython",
    "version": 3
   },
   "file_extension": ".py",
   "mimetype": "text/x-python",
   "name": "python",
   "nbconvert_exporter": "python",
   "pygments_lexer": "ipython3",
   "version": "3.7.4"
  }
 },
 "nbformat": 4,
 "nbformat_minor": 2
}
