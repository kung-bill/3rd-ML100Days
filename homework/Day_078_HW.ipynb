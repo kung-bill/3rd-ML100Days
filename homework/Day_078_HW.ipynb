{
 "cells": [
  {
   "cell_type": "markdown",
   "metadata": {},
   "source": [
    "## Work\n",
    "1. 請嘗試將 preproc_x 替換成以每筆資料的 min/max 進行標準化至 -1 ~ 1 間，再進行訓練\n",
    "2. 請嘗試將 mlp 疊更深 (e.g 5~10 層)，進行訓練後觀察 learning curve 的走勢\n",
    "3. (optional) 請改用 GPU 進行訓練 (如果你有 GPU 的話)，比較使用 CPU 與 GPU 的訓練速度"
   ]
  },
  {
   "cell_type": "code",
   "execution_count": 1,
   "metadata": {},
   "outputs": [
    {
     "name": "stderr",
     "output_type": "stream",
     "text": [
      "Using TensorFlow backend.\n"
     ]
    }
   ],
   "source": [
    "import os\n",
    "import keras\n",
    "import numpy as np\n",
    "\n",
    "# 請嘗試設定 GPU：os.environ"
   ]
  },
  {
   "cell_type": "code",
   "execution_count": 2,
   "metadata": {},
   "outputs": [],
   "source": [
    "#Blas GEMM launch failed , 避免動態分配GPU / CPU, 出現問題\n",
    "import tensorflow as tf\n",
    "gpu_options = tf.GPUOptions(per_process_gpu_memory_fraction=0.333)\n",
    "sess = tf.Session(config=tf.ConfigProto(gpu_options=gpu_options))"
   ]
  },
  {
   "cell_type": "code",
   "execution_count": 3,
   "metadata": {},
   "outputs": [],
   "source": [
    "train, test = keras.datasets.cifar10.load_data()"
   ]
  },
  {
   "cell_type": "code",
   "execution_count": 4,
   "metadata": {},
   "outputs": [],
   "source": [
    "## 資料前處理\n",
    "\"\"\"\n",
    "Your code here\n",
    "\"\"\"\n",
    "## 資料前處理\n",
    "def preproc_x(x, flatten=True):\n",
    "    x = x / 255. #變成0~1之間\n",
    "    x = 2*x - 1 #變成-1~1之間\n",
    "    if flatten:\n",
    "        x = x.reshape((len(x), -1))\n",
    "    return x\n",
    "\n",
    "def preproc_y(y, num_classes=10):\n",
    "    if y.shape[-1] == 1:\n",
    "        y = keras.utils.to_categorical(y, num_classes)\n",
    "    return y  "
   ]
  },
  {
   "cell_type": "code",
   "execution_count": 5,
   "metadata": {},
   "outputs": [],
   "source": [
    "x_train, y_train = train\n",
    "x_test, y_test = test\n",
    "\n",
    "# Preproc the inputs\n",
    "x_train = preproc_x(x_train)\n",
    "x_test = preproc_x(x_test)\n",
    "\n",
    "# Preprc the outputs\n",
    "y_train = preproc_y(y_train)\n",
    "y_test = preproc_y(y_test)"
   ]
  },
  {
   "cell_type": "code",
   "execution_count": 6,
   "metadata": {},
   "outputs": [
    {
     "name": "stdout",
     "output_type": "stream",
     "text": [
      "max= 1.0\n",
      "min= -1.0\n"
     ]
    }
   ],
   "source": [
    "#確認轉換過後的最大值是+1 最小值是-1\n",
    "print('max=', np.max(x_train[0:]))\n",
    "print('min=', np.min(x_train[0:]))"
   ]
  },
  {
   "cell_type": "code",
   "execution_count": 7,
   "metadata": {},
   "outputs": [
    {
     "name": "stdout",
     "output_type": "stream",
     "text": [
      "Model: \"model_1\"\n",
      "_________________________________________________________________\n",
      "Layer (type)                 Output Shape              Param #   \n",
      "=================================================================\n",
      "input_1 (InputLayer)         (None, 3072)              0         \n",
      "_________________________________________________________________\n",
      "hidden_layer1 (Dense)        (None, 256)               786688    \n",
      "_________________________________________________________________\n",
      "hidden_layer2 (Dense)        (None, 256)               65792     \n",
      "_________________________________________________________________\n",
      "hidden_layer3 (Dense)        (None, 256)               65792     \n",
      "_________________________________________________________________\n",
      "hidden_layer4 (Dense)        (None, 128)               32896     \n",
      "_________________________________________________________________\n",
      "hidden_layer5 (Dense)        (None, 128)               16512     \n",
      "_________________________________________________________________\n",
      "hidden_layer6 (Dense)        (None, 128)               16512     \n",
      "_________________________________________________________________\n",
      "hidden_layer7 (Dense)        (None, 32)                4128      \n",
      "_________________________________________________________________\n",
      "output (Dense)               (None, 10)                330       \n",
      "=================================================================\n",
      "Total params: 988,650\n",
      "Trainable params: 988,650\n",
      "Non-trainable params: 0\n",
      "_________________________________________________________________\n"
     ]
    }
   ],
   "source": [
    "\"\"\"Code Here\n",
    "建立你的神經網路\n",
    "\"\"\"\n",
    "def build_mlp(input_shape, output_units=10, num_neurons=[256, 128, 64]):\n",
    "    input_layer = keras.layers.Input(input_shape)\n",
    "    \n",
    "    for i, n_units in enumerate(num_neurons):\n",
    "        if i == 0:\n",
    "            x = keras.layers.Dense(units=n_units, activation=\"relu\", name=\"hidden_layer\"+str(i+1))(input_layer)\n",
    "        else:\n",
    "            x = keras.layers.Dense(units=n_units, activation=\"relu\", name=\"hidden_layer\"+str(i+1))(x)\n",
    "    \n",
    "    out = keras.layers.Dense(units=output_units, activation=\"softmax\", name=\"output\")(x)\n",
    "    \n",
    "    model = keras.models.Model(inputs=[input_layer], outputs=[out])\n",
    "    return model\n",
    "\n",
    "num_neurons = [256, 256, 256, 128, 128, 128, 32]\n",
    "model = build_mlp(input_shape=x_train.shape[1:], num_neurons=num_neurons)\n",
    "model.summary()"
   ]
  },
  {
   "cell_type": "code",
   "execution_count": 8,
   "metadata": {},
   "outputs": [],
   "source": [
    "## 超參數設定\n",
    "LEARNING_RATE = 0.001\n",
    "EPOCHS = 100\n",
    "BATCH_SIZE = 256"
   ]
  },
  {
   "cell_type": "code",
   "execution_count": 9,
   "metadata": {},
   "outputs": [],
   "source": [
    "optimizer = keras.optimizers.Adam(lr=LEARNING_RATE)\n",
    "model.compile(loss=\"categorical_crossentropy\", metrics=[\"accuracy\"], optimizer=optimizer)"
   ]
  },
  {
   "cell_type": "code",
   "execution_count": 10,
   "metadata": {},
   "outputs": [
    {
     "name": "stdout",
     "output_type": "stream",
     "text": [
      "WARNING:tensorflow:From c:\\users\\raoblack\\documents\\tf\\lib\\site-packages\\keras\\backend\\tensorflow_backend.py:422: The name tf.global_variables is deprecated. Please use tf.compat.v1.global_variables instead.\n",
      "\n",
      "Train on 50000 samples, validate on 10000 samples\n",
      "Epoch 1/100\n",
      "50000/50000 [==============================] - 3s 62us/step - loss: 1.7284 - accuracy: 0.3778 - val_loss: 1.5569 - val_accuracy: 0.4432\n",
      "Epoch 2/100\n",
      "50000/50000 [==============================] - 3s 52us/step - loss: 1.4918 - accuracy: 0.4712 - val_loss: 1.4784 - val_accuracy: 0.4838\n",
      "Epoch 3/100\n",
      "50000/50000 [==============================] - 3s 51us/step - loss: 1.3686 - accuracy: 0.5162 - val_loss: 1.4092 - val_accuracy: 0.5029\n",
      "Epoch 4/100\n",
      "50000/50000 [==============================] - 3s 52us/step - loss: 1.2779 - accuracy: 0.5491 - val_loss: 1.3763 - val_accuracy: 0.5175\n",
      "Epoch 5/100\n",
      "50000/50000 [==============================] - 3s 51us/step - loss: 1.1920 - accuracy: 0.5779 - val_loss: 1.3491 - val_accuracy: 0.5332\n",
      "Epoch 6/100\n",
      "50000/50000 [==============================] - 3s 52us/step - loss: 1.1188 - accuracy: 0.6046 - val_loss: 1.3579 - val_accuracy: 0.5272\n",
      "Epoch 7/100\n",
      "50000/50000 [==============================] - 3s 52us/step - loss: 1.0478 - accuracy: 0.6276 - val_loss: 1.3598 - val_accuracy: 0.5311\n",
      "Epoch 8/100\n",
      "50000/50000 [==============================] - 3s 51us/step - loss: 0.9809 - accuracy: 0.6531 - val_loss: 1.4034 - val_accuracy: 0.5315\n",
      "Epoch 9/100\n",
      "50000/50000 [==============================] - 3s 51us/step - loss: 0.9142 - accuracy: 0.6728 - val_loss: 1.4269 - val_accuracy: 0.5265\n",
      "Epoch 10/100\n",
      "50000/50000 [==============================] - 3s 51us/step - loss: 0.8546 - accuracy: 0.6967 - val_loss: 1.4377 - val_accuracy: 0.5411\n",
      "Epoch 11/100\n",
      "50000/50000 [==============================] - 3s 51us/step - loss: 0.7951 - accuracy: 0.7182 - val_loss: 1.5153 - val_accuracy: 0.5411\n",
      "Epoch 12/100\n",
      "50000/50000 [==============================] - 3s 52us/step - loss: 0.7283 - accuracy: 0.7420 - val_loss: 1.5700 - val_accuracy: 0.5372\n",
      "Epoch 13/100\n",
      "50000/50000 [==============================] - 3s 52us/step - loss: 0.6870 - accuracy: 0.7558 - val_loss: 1.5966 - val_accuracy: 0.5291\n",
      "Epoch 14/100\n",
      "50000/50000 [==============================] - 3s 52us/step - loss: 0.6347 - accuracy: 0.7739 - val_loss: 1.6342 - val_accuracy: 0.5325\n",
      "Epoch 15/100\n",
      "50000/50000 [==============================] - 3s 51us/step - loss: 0.5843 - accuracy: 0.7921 - val_loss: 1.7404 - val_accuracy: 0.5328\n",
      "Epoch 16/100\n",
      "50000/50000 [==============================] - 3s 51us/step - loss: 0.5356 - accuracy: 0.8117 - val_loss: 1.7937 - val_accuracy: 0.5198\n",
      "Epoch 17/100\n",
      "50000/50000 [==============================] - 3s 52us/step - loss: 0.5032 - accuracy: 0.8222 - val_loss: 1.8094 - val_accuracy: 0.5352\n",
      "Epoch 18/100\n",
      "50000/50000 [==============================] - 3s 52us/step - loss: 0.4608 - accuracy: 0.8377 - val_loss: 1.9111 - val_accuracy: 0.5181\n",
      "Epoch 19/100\n",
      "50000/50000 [==============================] - 3s 52us/step - loss: 0.4296 - accuracy: 0.8490 - val_loss: 2.0093 - val_accuracy: 0.5302\n",
      "Epoch 20/100\n",
      "50000/50000 [==============================] - 3s 51us/step - loss: 0.3984 - accuracy: 0.8602 - val_loss: 2.0723 - val_accuracy: 0.5267\n",
      "Epoch 21/100\n",
      "50000/50000 [==============================] - 3s 51us/step - loss: 0.3721 - accuracy: 0.8684 - val_loss: 2.0865 - val_accuracy: 0.5253\n",
      "Epoch 22/100\n",
      "50000/50000 [==============================] - 3s 52us/step - loss: 0.3503 - accuracy: 0.8775 - val_loss: 2.1680 - val_accuracy: 0.5194\n",
      "Epoch 23/100\n",
      "50000/50000 [==============================] - 3s 51us/step - loss: 0.3270 - accuracy: 0.8843 - val_loss: 2.3282 - val_accuracy: 0.5151\n",
      "Epoch 24/100\n",
      "50000/50000 [==============================] - 3s 51us/step - loss: 0.3130 - accuracy: 0.8911 - val_loss: 2.4951 - val_accuracy: 0.5212\n",
      "Epoch 25/100\n",
      "50000/50000 [==============================] - 3s 51us/step - loss: 0.2974 - accuracy: 0.8978 - val_loss: 2.4366 - val_accuracy: 0.5317\n",
      "Epoch 26/100\n",
      "50000/50000 [==============================] - 3s 51us/step - loss: 0.2789 - accuracy: 0.9037 - val_loss: 2.4749 - val_accuracy: 0.5310\n",
      "Epoch 27/100\n",
      "50000/50000 [==============================] - 3s 51us/step - loss: 0.2592 - accuracy: 0.9094 - val_loss: 2.5508 - val_accuracy: 0.5140\n",
      "Epoch 28/100\n",
      "50000/50000 [==============================] - 3s 51us/step - loss: 0.2468 - accuracy: 0.9147 - val_loss: 2.6962 - val_accuracy: 0.5299\n",
      "Epoch 29/100\n",
      "50000/50000 [==============================] - 3s 51us/step - loss: 0.2287 - accuracy: 0.9222 - val_loss: 2.8044 - val_accuracy: 0.5214\n",
      "Epoch 30/100\n",
      "50000/50000 [==============================] - 3s 52us/step - loss: 0.2290 - accuracy: 0.9211 - val_loss: 2.6457 - val_accuracy: 0.5191\n",
      "Epoch 31/100\n",
      "50000/50000 [==============================] - 3s 52us/step - loss: 0.2144 - accuracy: 0.9249 - val_loss: 2.7818 - val_accuracy: 0.5228\n",
      "Epoch 32/100\n",
      "50000/50000 [==============================] - 3s 51us/step - loss: 0.2016 - accuracy: 0.9302 - val_loss: 2.8155 - val_accuracy: 0.5261\n",
      "Epoch 33/100\n",
      "50000/50000 [==============================] - 3s 51us/step - loss: 0.1992 - accuracy: 0.9307 - val_loss: 2.9905 - val_accuracy: 0.5212\n",
      "Epoch 34/100\n",
      "50000/50000 [==============================] - 3s 51us/step - loss: 0.1914 - accuracy: 0.9353 - val_loss: 2.8785 - val_accuracy: 0.5293\n",
      "Epoch 35/100\n",
      "50000/50000 [==============================] - 3s 51us/step - loss: 0.1856 - accuracy: 0.9364 - val_loss: 2.9321 - val_accuracy: 0.5276\n",
      "Epoch 36/100\n",
      "50000/50000 [==============================] - 3s 52us/step - loss: 0.1830 - accuracy: 0.9372 - val_loss: 2.8888 - val_accuracy: 0.5245\n",
      "Epoch 37/100\n",
      "50000/50000 [==============================] - 3s 51us/step - loss: 0.1725 - accuracy: 0.9413 - val_loss: 3.1572 - val_accuracy: 0.5185\n",
      "Epoch 38/100\n",
      "50000/50000 [==============================] - 3s 51us/step - loss: 0.1666 - accuracy: 0.9433 - val_loss: 3.0957 - val_accuracy: 0.5259\n",
      "Epoch 39/100\n",
      "50000/50000 [==============================] - 3s 51us/step - loss: 0.1530 - accuracy: 0.9478 - val_loss: 3.1561 - val_accuracy: 0.5222\n",
      "Epoch 40/100\n",
      "50000/50000 [==============================] - 3s 51us/step - loss: 0.1579 - accuracy: 0.9456 - val_loss: 3.1328 - val_accuracy: 0.5204\n",
      "Epoch 41/100\n",
      "50000/50000 [==============================] - 3s 51us/step - loss: 0.1548 - accuracy: 0.9476 - val_loss: 3.1657 - val_accuracy: 0.5210\n",
      "Epoch 42/100\n",
      "50000/50000 [==============================] - 3s 51us/step - loss: 0.1498 - accuracy: 0.9491 - val_loss: 3.0287 - val_accuracy: 0.5216\n",
      "Epoch 43/100\n",
      "50000/50000 [==============================] - 3s 51us/step - loss: 0.1518 - accuracy: 0.9491 - val_loss: 3.2295 - val_accuracy: 0.5235\n",
      "Epoch 44/100\n",
      "50000/50000 [==============================] - 3s 51us/step - loss: 0.1424 - accuracy: 0.9515 - val_loss: 3.1914 - val_accuracy: 0.5225\n",
      "Epoch 45/100\n",
      "50000/50000 [==============================] - 3s 51us/step - loss: 0.1424 - accuracy: 0.9509 - val_loss: 3.2564 - val_accuracy: 0.5240\n",
      "Epoch 46/100\n",
      "50000/50000 [==============================] - 3s 51us/step - loss: 0.1452 - accuracy: 0.9496 - val_loss: 3.1066 - val_accuracy: 0.5214\n",
      "Epoch 47/100\n",
      "50000/50000 [==============================] - 3s 52us/step - loss: 0.1317 - accuracy: 0.9548 - val_loss: 3.2111 - val_accuracy: 0.5305\n",
      "Epoch 48/100\n",
      "50000/50000 [==============================] - 3s 54us/step - loss: 0.1325 - accuracy: 0.9558 - val_loss: 3.3414 - val_accuracy: 0.5227\n",
      "Epoch 49/100\n",
      "50000/50000 [==============================] - 3s 52us/step - loss: 0.1283 - accuracy: 0.9571 - val_loss: 3.1884 - val_accuracy: 0.5227\n",
      "Epoch 50/100\n",
      "50000/50000 [==============================] - 3s 52us/step - loss: 0.1120 - accuracy: 0.9624 - val_loss: 3.4262 - val_accuracy: 0.5216\n",
      "Epoch 51/100\n",
      "50000/50000 [==============================] - 3s 51us/step - loss: 0.1283 - accuracy: 0.9569 - val_loss: 3.2706 - val_accuracy: 0.5255\n",
      "Epoch 52/100\n",
      "50000/50000 [==============================] - 3s 52us/step - loss: 0.1300 - accuracy: 0.9557 - val_loss: 3.3623 - val_accuracy: 0.5225\n",
      "Epoch 53/100\n",
      "50000/50000 [==============================] - 3s 52us/step - loss: 0.1151 - accuracy: 0.9620 - val_loss: 3.3840 - val_accuracy: 0.5277\n",
      "Epoch 54/100\n"
     ]
    },
    {
     "name": "stdout",
     "output_type": "stream",
     "text": [
      "50000/50000 [==============================] - 3s 52us/step - loss: 0.1161 - accuracy: 0.9616 - val_loss: 3.2981 - val_accuracy: 0.5275\n",
      "Epoch 55/100\n",
      "50000/50000 [==============================] - 3s 52us/step - loss: 0.1128 - accuracy: 0.9625 - val_loss: 3.4056 - val_accuracy: 0.5330\n",
      "Epoch 56/100\n",
      "50000/50000 [==============================] - 3s 54us/step - loss: 0.1162 - accuracy: 0.9609 - val_loss: 3.5591 - val_accuracy: 0.5324\n",
      "Epoch 57/100\n",
      "50000/50000 [==============================] - 3s 53us/step - loss: 0.1174 - accuracy: 0.9612 - val_loss: 3.5738 - val_accuracy: 0.5225\n",
      "Epoch 58/100\n",
      "50000/50000 [==============================] - 3s 52us/step - loss: 0.1020 - accuracy: 0.9667 - val_loss: 3.5123 - val_accuracy: 0.5290 1s - los - ETA: 0s - loss: 0.1016 - \n",
      "Epoch 59/100\n",
      "50000/50000 [==============================] - 3s 51us/step - loss: 0.1128 - accuracy: 0.9636 - val_loss: 3.3837 - val_accuracy: 0.5211\n",
      "Epoch 60/100\n",
      "50000/50000 [==============================] - 3s 52us/step - loss: 0.1032 - accuracy: 0.9653 - val_loss: 3.3873 - val_accuracy: 0.5265\n",
      "Epoch 61/100\n",
      "50000/50000 [==============================] - 3s 51us/step - loss: 0.0965 - accuracy: 0.9686 - val_loss: 3.6699 - val_accuracy: 0.5263\n",
      "Epoch 62/100\n",
      "50000/50000 [==============================] - 3s 51us/step - loss: 0.1098 - accuracy: 0.9642 - val_loss: 3.4754 - val_accuracy: 0.5291\n",
      "Epoch 63/100\n",
      "50000/50000 [==============================] - 3s 52us/step - loss: 0.1017 - accuracy: 0.9667 - val_loss: 3.4065 - val_accuracy: 0.5266\n",
      "Epoch 64/100\n",
      "50000/50000 [==============================] - 3s 51us/step - loss: 0.1072 - accuracy: 0.9645 - val_loss: 3.3912 - val_accuracy: 0.5268\n",
      "Epoch 65/100\n",
      "50000/50000 [==============================] - 3s 52us/step - loss: 0.0955 - accuracy: 0.9687 - val_loss: 3.4295 - val_accuracy: 0.5214\n",
      "Epoch 66/100\n",
      "50000/50000 [==============================] - 3s 52us/step - loss: 0.1042 - accuracy: 0.9653 - val_loss: 3.4885 - val_accuracy: 0.5205\n",
      "Epoch 67/100\n",
      "50000/50000 [==============================] - 3s 51us/step - loss: 0.0926 - accuracy: 0.9695 - val_loss: 3.6274 - val_accuracy: 0.5275\n",
      "Epoch 68/100\n",
      "50000/50000 [==============================] - 3s 51us/step - loss: 0.0949 - accuracy: 0.9688 - val_loss: 3.5678 - val_accuracy: 0.5182\n",
      "Epoch 69/100\n",
      "50000/50000 [==============================] - 3s 52us/step - loss: 0.0971 - accuracy: 0.9673 - val_loss: 3.7444 - val_accuracy: 0.5324\n",
      "Epoch 70/100\n",
      "50000/50000 [==============================] - 3s 52us/step - loss: 0.0884 - accuracy: 0.9706 - val_loss: 3.6490 - val_accuracy: 0.5240\n",
      "Epoch 71/100\n",
      "50000/50000 [==============================] - 3s 52us/step - loss: 0.0890 - accuracy: 0.9708 - val_loss: 3.7989 - val_accuracy: 0.5177\n",
      "Epoch 72/100\n",
      "50000/50000 [==============================] - 3s 52us/step - loss: 0.0931 - accuracy: 0.9698 - val_loss: 3.8411 - val_accuracy: 0.5171\n",
      "Epoch 73/100\n",
      "50000/50000 [==============================] - 3s 52us/step - loss: 0.0940 - accuracy: 0.9691 - val_loss: 3.7038 - val_accuracy: 0.5232\n",
      "Epoch 74/100\n",
      "50000/50000 [==============================] - 3s 52us/step - loss: 0.0825 - accuracy: 0.9726 - val_loss: 3.6845 - val_accuracy: 0.5273\n",
      "Epoch 75/100\n",
      "50000/50000 [==============================] - 3s 50us/step - loss: 0.0843 - accuracy: 0.9733 - val_loss: 3.7008 - val_accuracy: 0.5230\n",
      "Epoch 76/100\n",
      "50000/50000 [==============================] - 3s 55us/step - loss: 0.0892 - accuracy: 0.9706 - val_loss: 3.6984 - val_accuracy: 0.5266\n",
      "Epoch 77/100\n",
      "50000/50000 [==============================] - 3s 54us/step - loss: 0.0809 - accuracy: 0.9738 - val_loss: 3.8674 - val_accuracy: 0.5204\n",
      "Epoch 78/100\n",
      "50000/50000 [==============================] - 3s 56us/step - loss: 0.0969 - accuracy: 0.9686 - val_loss: 3.6232 - val_accuracy: 0.5266\n",
      "Epoch 79/100\n",
      "50000/50000 [==============================] - 3s 55us/step - loss: 0.0785 - accuracy: 0.9749 - val_loss: 3.6014 - val_accuracy: 0.5261\n",
      "Epoch 80/100\n",
      "50000/50000 [==============================] - 3s 56us/step - loss: 0.0857 - accuracy: 0.9719 - val_loss: 3.7145 - val_accuracy: 0.5232\n",
      "Epoch 81/100\n",
      "50000/50000 [==============================] - 3s 56us/step - loss: 0.0886 - accuracy: 0.9711 - val_loss: 3.6805 - val_accuracy: 0.5230\n",
      "Epoch 82/100\n",
      "50000/50000 [==============================] - 3s 56us/step - loss: 0.0802 - accuracy: 0.9739 - val_loss: 3.6156 - val_accuracy: 0.5245\n",
      "Epoch 83/100\n",
      "50000/50000 [==============================] - 3s 56us/step - loss: 0.0767 - accuracy: 0.9751 - val_loss: 3.9100 - val_accuracy: 0.5254\n",
      "Epoch 84/100\n",
      "50000/50000 [==============================] - 3s 56us/step - loss: 0.0793 - accuracy: 0.9738 - val_loss: 3.8486 - val_accuracy: 0.5225\n",
      "Epoch 85/100\n",
      "50000/50000 [==============================] - 3s 56us/step - loss: 0.0796 - accuracy: 0.9738 - val_loss: 3.7241 - val_accuracy: 0.5228\n",
      "Epoch 86/100\n",
      "50000/50000 [==============================] - 3s 55us/step - loss: 0.0729 - accuracy: 0.9766 - val_loss: 3.5981 - val_accuracy: 0.5268\n",
      "Epoch 87/100\n",
      "50000/50000 [==============================] - 3s 54us/step - loss: 0.0815 - accuracy: 0.9735 - val_loss: 3.8316 - val_accuracy: 0.5314\n",
      "Epoch 88/100\n",
      "50000/50000 [==============================] - 3s 54us/step - loss: 0.0728 - accuracy: 0.9764 - val_loss: 3.5966 - val_accuracy: 0.5253\n",
      "Epoch 89/100\n",
      "50000/50000 [==============================] - 3s 54us/step - loss: 0.0705 - accuracy: 0.9776 - val_loss: 3.7520 - val_accuracy: 0.5202\n",
      "Epoch 90/100\n",
      "50000/50000 [==============================] - 3s 58us/step - loss: 0.0823 - accuracy: 0.9730 - val_loss: 3.6282 - val_accuracy: 0.5202\n",
      "Epoch 91/100\n",
      "50000/50000 [==============================] - 3s 56us/step - loss: 0.0629 - accuracy: 0.9799 - val_loss: 4.0690 - val_accuracy: 0.5239\n",
      "Epoch 92/100\n",
      "50000/50000 [==============================] - 3s 58us/step - loss: 0.0814 - accuracy: 0.9737 - val_loss: 3.9108 - val_accuracy: 0.5205\n",
      "Epoch 93/100\n",
      "50000/50000 [==============================] - 3s 55us/step - loss: 0.0840 - accuracy: 0.9731 - val_loss: 3.7543 - val_accuracy: 0.5238\n",
      "Epoch 94/100\n",
      "50000/50000 [==============================] - 3s 56us/step - loss: 0.0669 - accuracy: 0.9787 - val_loss: 3.9078 - val_accuracy: 0.5229\n",
      "Epoch 95/100\n",
      "50000/50000 [==============================] - 3s 55us/step - loss: 0.0610 - accuracy: 0.9808 - val_loss: 3.9892 - val_accuracy: 0.5295\n",
      "Epoch 96/100\n",
      "50000/50000 [==============================] - 3s 55us/step - loss: 0.0772 - accuracy: 0.9753 - val_loss: 3.6573 - val_accuracy: 0.5294\n",
      "Epoch 97/100\n",
      "50000/50000 [==============================] - 3s 55us/step - loss: 0.0716 - accuracy: 0.9769 - val_loss: 4.2317 - val_accuracy: 0.5164\n",
      "Epoch 98/100\n",
      "50000/50000 [==============================] - 3s 55us/step - loss: 0.0784 - accuracy: 0.9751 - val_loss: 3.8896 - val_accuracy: 0.5220\n",
      "Epoch 99/100\n",
      "50000/50000 [==============================] - 3s 55us/step - loss: 0.0677 - accuracy: 0.9778 - val_loss: 3.8252 - val_accuracy: 0.5221\n",
      "Epoch 100/100\n",
      "50000/50000 [==============================] - 3s 54us/step - loss: 0.0652 - accuracy: 0.9792 - val_loss: 3.9225 - val_accuracy: 0.5250\n"
     ]
    },
    {
     "data": {
      "text/plain": [
       "<keras.callbacks.callbacks.History at 0x48c8e6c8>"
      ]
     },
     "execution_count": 10,
     "metadata": {},
     "output_type": "execute_result"
    }
   ],
   "source": [
    "model.fit(x_train, y_train, \n",
    "          epochs=EPOCHS, \n",
    "          batch_size=BATCH_SIZE, \n",
    "          validation_data=(x_test, y_test), \n",
    "          shuffle=True)"
   ]
  },
  {
   "cell_type": "code",
   "execution_count": 12,
   "metadata": {},
   "outputs": [
    {
     "data": {
      "image/png": "[encoded data removed]",
      "text/plain": [
       "<Figure size 432x288 with 1 Axes>"
      ]
     },
     "metadata": {
      "needs_background": "light"
     },
     "output_type": "display_data"
    },
    {
     "data": {
      "image/png": "[encoded data removed]",
      "text/plain": [
       "<Figure size 432x288 with 1 Axes>"
      ]
     },
     "metadata": {
      "needs_background": "light"
     },
     "output_type": "display_data"
    }
   ],
   "source": [
    "import matplotlib.pyplot as plt\n",
    "\n",
    "\n",
    "train_loss = model.history.history[\"loss\"]\n",
    "valid_loss = model.history.history[\"val_loss\"]\n",
    "\n",
    "train_acc = model.history.history[\"accuracy\"]\n",
    "valid_acc = model.history.history[\"val_accuracy\"]\n",
    "\n",
    "plt.plot(range(len(train_loss)), train_loss, label=\"train loss\")\n",
    "plt.plot(range(len(valid_loss)), valid_loss, label=\"valid loss\")\n",
    "plt.legend()\n",
    "plt.title(\"Loss\")\n",
    "plt.show()\n",
    "\n",
    "plt.plot(range(len(train_acc)), train_acc, label=\"train accuracy\")\n",
    "plt.plot(range(len(valid_acc)), valid_acc, label=\"valid accuracy\")\n",
    "plt.legend()\n",
    "plt.title(\"Accuracy\")\n",
    "plt.show()"
   ]
  }
 ],
 "metadata": {
  "kernelspec": {
   "display_name": "Python 3",
   "language": "python",
   "name": "python3"
  },
  "language_info": {
   "codemirror_mode": {
    "name": "ipython",
    "version": 3
   },
   "file_extension": ".py",
   "mimetype": "text/x-python",
   "name": "python",
   "nbconvert_exporter": "python",
   "pygments_lexer": "ipython3",
   "version": "3.7.4"
  }
 },
 "nbformat": 4,
 "nbformat_minor": 2
}
