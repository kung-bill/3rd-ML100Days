{
 "cells": [
  {
   "cell_type": "code",
   "execution_count": 1,
   "metadata": {},
   "outputs": [],
   "source": [
    "import matplotlib.pyplot as plt\n",
    "import pandas as pd\n",
    "import numpy as np\n",
    "from sklearn.preprocessing import LabelEncoder"
   ]
  },
  {
   "cell_type": "code",
   "execution_count": 2,
   "metadata": {},
   "outputs": [
    {
     "name": "stdout",
     "output_type": "stream",
     "text": [
      "(113, 22)\n",
      "(33, 21)\n"
     ]
    }
   ],
   "source": [
    "data_path = './3rd-ml100marathon-midterm/'\n",
    "df_train = pd.read_csv(data_path + 'train_data.csv')\n",
    "df_test = pd.read_csv(data_path + 'test_features.csv')\n",
    "print(df_train.shape)\n",
    "print(df_test.shape)"
   ]
  },
  {
   "cell_type": "code",
   "execution_count": 3,
   "metadata": {},
   "outputs": [
    {
     "name": "stdout",
     "output_type": "stream",
     "text": [
      "(146, 20)\n"
     ]
    },
    {
     "data": {
      "text/html": [
       "<div>\n",
       "<style scoped>\n",
       "    .dataframe tbody tr th:only-of-type {\n",
       "        vertical-align: middle;\n",
       "    }\n",
       "\n",
       "    .dataframe tbody tr th {\n",
       "        vertical-align: top;\n",
       "    }\n",
       "\n",
       "    .dataframe thead th {\n",
       "        text-align: right;\n",
       "    }\n",
       "</style>\n",
       "<table border=\"1\" class=\"dataframe\">\n",
       "  <thead>\n",
       "    <tr style=\"text-align: right;\">\n",
       "      <th></th>\n",
       "      <th>bonus</th>\n",
       "      <th>deferral_payments</th>\n",
       "      <th>deferred_income</th>\n",
       "      <th>director_fees</th>\n",
       "      <th>email_address</th>\n",
       "      <th>exercised_stock_options</th>\n",
       "      <th>expenses</th>\n",
       "      <th>from_messages</th>\n",
       "      <th>from_poi_to_this_person</th>\n",
       "      <th>from_this_person_to_poi</th>\n",
       "      <th>loan_advances</th>\n",
       "      <th>long_term_incentive</th>\n",
       "      <th>other</th>\n",
       "      <th>restricted_stock</th>\n",
       "      <th>restricted_stock_deferred</th>\n",
       "      <th>salary</th>\n",
       "      <th>shared_receipt_with_poi</th>\n",
       "      <th>to_messages</th>\n",
       "      <th>total_payments</th>\n",
       "      <th>total_stock_value</th>\n",
       "    </tr>\n",
       "  </thead>\n",
       "  <tbody>\n",
       "    <tr>\n",
       "      <td>0</td>\n",
       "      <td>1750000.0</td>\n",
       "      <td>NaN</td>\n",
       "      <td>-3504386.0</td>\n",
       "      <td>NaN</td>\n",
       "      <td>ken.rice@enron.com</td>\n",
       "      <td>19794175.0</td>\n",
       "      <td>46950.0</td>\n",
       "      <td>18.0</td>\n",
       "      <td>42.0</td>\n",
       "      <td>4.0</td>\n",
       "      <td>NaN</td>\n",
       "      <td>1617011.0</td>\n",
       "      <td>174839.0</td>\n",
       "      <td>2748364.0</td>\n",
       "      <td>NaN</td>\n",
       "      <td>420636.0</td>\n",
       "      <td>864.0</td>\n",
       "      <td>905.0</td>\n",
       "      <td>505050.0</td>\n",
       "      <td>22542539.0</td>\n",
       "    </tr>\n",
       "    <tr>\n",
       "      <td>1</td>\n",
       "      <td>5600000.0</td>\n",
       "      <td>NaN</td>\n",
       "      <td>NaN</td>\n",
       "      <td>NaN</td>\n",
       "      <td>jeff.skilling@enron.com</td>\n",
       "      <td>19250000.0</td>\n",
       "      <td>29336.0</td>\n",
       "      <td>108.0</td>\n",
       "      <td>88.0</td>\n",
       "      <td>30.0</td>\n",
       "      <td>NaN</td>\n",
       "      <td>1920000.0</td>\n",
       "      <td>22122.0</td>\n",
       "      <td>6843672.0</td>\n",
       "      <td>NaN</td>\n",
       "      <td>1111258.0</td>\n",
       "      <td>2042.0</td>\n",
       "      <td>3627.0</td>\n",
       "      <td>8682716.0</td>\n",
       "      <td>26093672.0</td>\n",
       "    </tr>\n",
       "    <tr>\n",
       "      <td>2</td>\n",
       "      <td>200000.0</td>\n",
       "      <td>NaN</td>\n",
       "      <td>-4167.0</td>\n",
       "      <td>NaN</td>\n",
       "      <td>rex.shelby@enron.com</td>\n",
       "      <td>1624396.0</td>\n",
       "      <td>22884.0</td>\n",
       "      <td>39.0</td>\n",
       "      <td>13.0</td>\n",
       "      <td>14.0</td>\n",
       "      <td>NaN</td>\n",
       "      <td>NaN</td>\n",
       "      <td>1573324.0</td>\n",
       "      <td>869220.0</td>\n",
       "      <td>NaN</td>\n",
       "      <td>211844.0</td>\n",
       "      <td>91.0</td>\n",
       "      <td>225.0</td>\n",
       "      <td>2003885.0</td>\n",
       "      <td>2493616.0</td>\n",
       "    </tr>\n",
       "    <tr>\n",
       "      <td>3</td>\n",
       "      <td>800000.0</td>\n",
       "      <td>NaN</td>\n",
       "      <td>NaN</td>\n",
       "      <td>NaN</td>\n",
       "      <td>michael.kopper@enron.com</td>\n",
       "      <td>NaN</td>\n",
       "      <td>118134.0</td>\n",
       "      <td>NaN</td>\n",
       "      <td>NaN</td>\n",
       "      <td>NaN</td>\n",
       "      <td>NaN</td>\n",
       "      <td>602671.0</td>\n",
       "      <td>907502.0</td>\n",
       "      <td>985032.0</td>\n",
       "      <td>NaN</td>\n",
       "      <td>224305.0</td>\n",
       "      <td>NaN</td>\n",
       "      <td>NaN</td>\n",
       "      <td>2652612.0</td>\n",
       "      <td>985032.0</td>\n",
       "    </tr>\n",
       "    <tr>\n",
       "      <td>4</td>\n",
       "      <td>1250000.0</td>\n",
       "      <td>NaN</td>\n",
       "      <td>-262500.0</td>\n",
       "      <td>NaN</td>\n",
       "      <td>christopher.calger@enron.com</td>\n",
       "      <td>NaN</td>\n",
       "      <td>35818.0</td>\n",
       "      <td>144.0</td>\n",
       "      <td>199.0</td>\n",
       "      <td>25.0</td>\n",
       "      <td>NaN</td>\n",
       "      <td>375304.0</td>\n",
       "      <td>486.0</td>\n",
       "      <td>126027.0</td>\n",
       "      <td>NaN</td>\n",
       "      <td>240189.0</td>\n",
       "      <td>2188.0</td>\n",
       "      <td>2598.0</td>\n",
       "      <td>1639297.0</td>\n",
       "      <td>126027.0</td>\n",
       "    </tr>\n",
       "    <tr>\n",
       "      <td>5</td>\n",
       "      <td>NaN</td>\n",
       "      <td>10259.0</td>\n",
       "      <td>NaN</td>\n",
       "      <td>NaN</td>\n",
       "      <td>joe.hirko@enron.com</td>\n",
       "      <td>30766064.0</td>\n",
       "      <td>77978.0</td>\n",
       "      <td>NaN</td>\n",
       "      <td>NaN</td>\n",
       "      <td>NaN</td>\n",
       "      <td>NaN</td>\n",
       "      <td>NaN</td>\n",
       "      <td>2856.0</td>\n",
       "      <td>NaN</td>\n",
       "      <td>NaN</td>\n",
       "      <td>NaN</td>\n",
       "      <td>NaN</td>\n",
       "      <td>NaN</td>\n",
       "      <td>91093.0</td>\n",
       "      <td>30766064.0</td>\n",
       "    </tr>\n",
       "    <tr>\n",
       "      <td>6</td>\n",
       "      <td>NaN</td>\n",
       "      <td>NaN</td>\n",
       "      <td>NaN</td>\n",
       "      <td>NaN</td>\n",
       "      <td>scott.yeager@enron.com</td>\n",
       "      <td>8308552.0</td>\n",
       "      <td>53947.0</td>\n",
       "      <td>NaN</td>\n",
       "      <td>NaN</td>\n",
       "      <td>NaN</td>\n",
       "      <td>NaN</td>\n",
       "      <td>NaN</td>\n",
       "      <td>147950.0</td>\n",
       "      <td>3576206.0</td>\n",
       "      <td>NaN</td>\n",
       "      <td>158403.0</td>\n",
       "      <td>NaN</td>\n",
       "      <td>NaN</td>\n",
       "      <td>360300.0</td>\n",
       "      <td>11884758.0</td>\n",
       "    </tr>\n",
       "    <tr>\n",
       "      <td>7</td>\n",
       "      <td>1200000.0</td>\n",
       "      <td>27610.0</td>\n",
       "      <td>-144062.0</td>\n",
       "      <td>NaN</td>\n",
       "      <td>wes.colwell@enron.com</td>\n",
       "      <td>NaN</td>\n",
       "      <td>16514.0</td>\n",
       "      <td>40.0</td>\n",
       "      <td>240.0</td>\n",
       "      <td>11.0</td>\n",
       "      <td>NaN</td>\n",
       "      <td>NaN</td>\n",
       "      <td>101740.0</td>\n",
       "      <td>698242.0</td>\n",
       "      <td>NaN</td>\n",
       "      <td>288542.0</td>\n",
       "      <td>1132.0</td>\n",
       "      <td>1758.0</td>\n",
       "      <td>1490344.0</td>\n",
       "      <td>698242.0</td>\n",
       "    </tr>\n",
       "    <tr>\n",
       "      <td>8</td>\n",
       "      <td>7000000.0</td>\n",
       "      <td>202911.0</td>\n",
       "      <td>-300000.0</td>\n",
       "      <td>NaN</td>\n",
       "      <td>kenneth.lay@enron.com</td>\n",
       "      <td>34348384.0</td>\n",
       "      <td>99832.0</td>\n",
       "      <td>36.0</td>\n",
       "      <td>123.0</td>\n",
       "      <td>16.0</td>\n",
       "      <td>81525000.0</td>\n",
       "      <td>3600000.0</td>\n",
       "      <td>10359729.0</td>\n",
       "      <td>14761694.0</td>\n",
       "      <td>NaN</td>\n",
       "      <td>1072321.0</td>\n",
       "      <td>2411.0</td>\n",
       "      <td>4273.0</td>\n",
       "      <td>103559793.0</td>\n",
       "      <td>49110078.0</td>\n",
       "    </tr>\n",
       "    <tr>\n",
       "      <td>9</td>\n",
       "      <td>600000.0</td>\n",
       "      <td>NaN</td>\n",
       "      <td>NaN</td>\n",
       "      <td>NaN</td>\n",
       "      <td>ben.glisan@enron.com</td>\n",
       "      <td>384728.0</td>\n",
       "      <td>125978.0</td>\n",
       "      <td>16.0</td>\n",
       "      <td>52.0</td>\n",
       "      <td>6.0</td>\n",
       "      <td>NaN</td>\n",
       "      <td>71023.0</td>\n",
       "      <td>200308.0</td>\n",
       "      <td>393818.0</td>\n",
       "      <td>NaN</td>\n",
       "      <td>274975.0</td>\n",
       "      <td>874.0</td>\n",
       "      <td>873.0</td>\n",
       "      <td>1272284.0</td>\n",
       "      <td>778546.0</td>\n",
       "    </tr>\n",
       "  </tbody>\n",
       "</table>\n",
       "</div>"
      ],
      "text/plain": [
       "       bonus  deferral_payments  deferred_income  director_fees  \\\n",
       "0  1750000.0                NaN       -3504386.0            NaN   \n",
       "1  5600000.0                NaN              NaN            NaN   \n",
       "2   200000.0                NaN          -4167.0            NaN   \n",
       "3   800000.0                NaN              NaN            NaN   \n",
       "4  1250000.0                NaN        -262500.0            NaN   \n",
       "5        NaN            10259.0              NaN            NaN   \n",
       "6        NaN                NaN              NaN            NaN   \n",
       "7  1200000.0            27610.0        -144062.0            NaN   \n",
       "8  7000000.0           202911.0        -300000.0            NaN   \n",
       "9   600000.0                NaN              NaN            NaN   \n",
       "\n",
       "                  email_address  exercised_stock_options  expenses  \\\n",
       "0            ken.rice@enron.com               19794175.0   46950.0   \n",
       "1       jeff.skilling@enron.com               19250000.0   29336.0   \n",
       "2          rex.shelby@enron.com                1624396.0   22884.0   \n",
       "3      michael.kopper@enron.com                      NaN  118134.0   \n",
       "4  christopher.calger@enron.com                      NaN   35818.0   \n",
       "5           joe.hirko@enron.com               30766064.0   77978.0   \n",
       "6        scott.yeager@enron.com                8308552.0   53947.0   \n",
       "7         wes.colwell@enron.com                      NaN   16514.0   \n",
       "8         kenneth.lay@enron.com               34348384.0   99832.0   \n",
       "9          ben.glisan@enron.com                 384728.0  125978.0   \n",
       "\n",
       "   from_messages  from_poi_to_this_person  from_this_person_to_poi  \\\n",
       "0           18.0                     42.0                      4.0   \n",
       "1          108.0                     88.0                     30.0   \n",
       "2           39.0                     13.0                     14.0   \n",
       "3            NaN                      NaN                      NaN   \n",
       "4          144.0                    199.0                     25.0   \n",
       "5            NaN                      NaN                      NaN   \n",
       "6            NaN                      NaN                      NaN   \n",
       "7           40.0                    240.0                     11.0   \n",
       "8           36.0                    123.0                     16.0   \n",
       "9           16.0                     52.0                      6.0   \n",
       "\n",
       "   loan_advances  long_term_incentive       other  restricted_stock  \\\n",
       "0            NaN            1617011.0    174839.0         2748364.0   \n",
       "1            NaN            1920000.0     22122.0         6843672.0   \n",
       "2            NaN                  NaN   1573324.0          869220.0   \n",
       "3            NaN             602671.0    907502.0          985032.0   \n",
       "4            NaN             375304.0       486.0          126027.0   \n",
       "5            NaN                  NaN      2856.0               NaN   \n",
       "6            NaN                  NaN    147950.0         3576206.0   \n",
       "7            NaN                  NaN    101740.0          698242.0   \n",
       "8     81525000.0            3600000.0  10359729.0        14761694.0   \n",
       "9            NaN              71023.0    200308.0          393818.0   \n",
       "\n",
       "   restricted_stock_deferred     salary  shared_receipt_with_poi  to_messages  \\\n",
       "0                        NaN   420636.0                    864.0        905.0   \n",
       "1                        NaN  1111258.0                   2042.0       3627.0   \n",
       "2                        NaN   211844.0                     91.0        225.0   \n",
       "3                        NaN   224305.0                      NaN          NaN   \n",
       "4                        NaN   240189.0                   2188.0       2598.0   \n",
       "5                        NaN        NaN                      NaN          NaN   \n",
       "6                        NaN   158403.0                      NaN          NaN   \n",
       "7                        NaN   288542.0                   1132.0       1758.0   \n",
       "8                        NaN  1072321.0                   2411.0       4273.0   \n",
       "9                        NaN   274975.0                    874.0        873.0   \n",
       "\n",
       "   total_payments  total_stock_value  \n",
       "0        505050.0         22542539.0  \n",
       "1       8682716.0         26093672.0  \n",
       "2       2003885.0          2493616.0  \n",
       "3       2652612.0           985032.0  \n",
       "4       1639297.0           126027.0  \n",
       "5         91093.0         30766064.0  \n",
       "6        360300.0         11884758.0  \n",
       "7       1490344.0           698242.0  \n",
       "8     103559793.0         49110078.0  \n",
       "9       1272284.0           778546.0  "
      ]
     },
     "execution_count": 3,
     "metadata": {},
     "output_type": "execute_result"
    }
   ],
   "source": [
    "# 重組資料成為訓練 / 預測用格式\n",
    "\n",
    "# poi 這個 column 是只有 train set 才有的 (label)\n",
    "train_Y = df_train['poi'].values\n",
    "df_train = df_train.drop(['poi'] , axis=1) #將 column = 'poi' drop 出來\n",
    "train_num = df_train.shape[0]\n",
    "\n",
    "df = pd.concat([df_train, df_test])\n",
    "df = df.drop(['name'], axis=1)\n",
    "print(df.shape)\n",
    "df.head(10)"
   ]
  },
  {
   "cell_type": "markdown",
   "metadata": {},
   "source": [
    "### 處理異常欄位\n",
    "* 有太多Nan的欄位，整欄不使用"
   ]
  },
  {
   "cell_type": "code",
   "execution_count": 4,
   "metadata": {},
   "outputs": [
    {
     "name": "stdout",
     "output_type": "stream",
     "text": [
      "Index(['bonus', 'deferral_payments', 'deferred_income', 'director_fees',\n",
      "       'email_address', 'exercised_stock_options', 'expenses', 'from_messages',\n",
      "       'from_poi_to_this_person', 'from_this_person_to_poi', 'loan_advances',\n",
      "       'long_term_incentive', 'other', 'restricted_stock',\n",
      "       'restricted_stock_deferred', 'salary', 'shared_receipt_with_poi',\n",
      "       'to_messages', 'total_payments', 'total_stock_value'],\n",
      "      dtype='object')\n",
      "['email_address', 'exercised_stock_options', 'restricted_stock', 'total_payments', 'total_stock_value']\n"
     ]
    }
   ],
   "source": [
    "print(df.columns)\n",
    "ratio = 0.51\n",
    "selected_columns = [] #只留下 非 NaN 值比率大於 ratio 的 columns \n",
    "for col in df.columns:\n",
    "    if (((~df_train[col].isnull()).values.sum())/df.shape[0] > ratio):\n",
    "        selected_columns.append(col)\n",
    "print(selected_columns)\n",
    "df = df[selected_columns]"
   ]
  },
  {
   "cell_type": "code",
   "execution_count": 5,
   "metadata": {},
   "outputs": [
    {
     "name": "stdout",
     "output_type": "stream",
     "text": [
      "0 Integer Features : []\n",
      "\n",
      "4 Float Features : ['exercised_stock_options', 'restricted_stock', 'total_payments', 'total_stock_value']\n",
      "\n",
      "1 Object Features : ['email_address']\n"
     ]
    }
   ],
   "source": [
    "#確定只有 int64, float64, object 三種類型後, 分別將欄位名稱存於三個 list 中\n",
    "int_features = []\n",
    "float_features = []\n",
    "object_features = []\n",
    "for dtype, feature in zip(df.dtypes, df.columns):\n",
    "    if dtype == 'float64':\n",
    "        float_features.append(feature)\n",
    "    elif dtype == 'int64':\n",
    "        int_features.append(feature)\n",
    "    else:\n",
    "        object_features.append(feature)\n",
    "print(f'{len(int_features)} Integer Features : {int_features}\\n')\n",
    "print(f'{len(float_features)} Float Features : {float_features}\\n')\n",
    "print(f'{len(object_features)} Object Features : {object_features}')"
   ]
  },
  {
   "cell_type": "markdown",
   "metadata": {},
   "source": [
    "### Category Encoding"
   ]
  },
  {
   "cell_type": "code",
   "execution_count": 6,
   "metadata": {},
   "outputs": [],
   "source": [
    "#name 是key 所以不處理\n",
    "#對 email_address 做 LabelEncoder\n",
    "\n",
    "df['email_address'] = df['email_address'].fillna('None')\n",
    "df['email_address'] = LabelEncoder().fit_transform(df['email_address'])"
   ]
  },
  {
   "cell_type": "code",
   "execution_count": 7,
   "metadata": {},
   "outputs": [
    {
     "data": {
      "text/html": [
       "<div>\n",
       "<style scoped>\n",
       "    .dataframe tbody tr th:only-of-type {\n",
       "        vertical-align: middle;\n",
       "    }\n",
       "\n",
       "    .dataframe tbody tr th {\n",
       "        vertical-align: top;\n",
       "    }\n",
       "\n",
       "    .dataframe thead th {\n",
       "        text-align: right;\n",
       "    }\n",
       "</style>\n",
       "<table border=\"1\" class=\"dataframe\">\n",
       "  <thead>\n",
       "    <tr style=\"text-align: right;\">\n",
       "      <th></th>\n",
       "      <th>email_address</th>\n",
       "      <th>exercised_stock_options</th>\n",
       "      <th>restricted_stock</th>\n",
       "      <th>total_payments</th>\n",
       "      <th>total_stock_value</th>\n",
       "    </tr>\n",
       "  </thead>\n",
       "  <tbody>\n",
       "    <tr>\n",
       "      <td>0</td>\n",
       "      <td>56</td>\n",
       "      <td>19794175.0</td>\n",
       "      <td>2748364.0</td>\n",
       "      <td>505050.0</td>\n",
       "      <td>22542539.0</td>\n",
       "    </tr>\n",
       "    <tr>\n",
       "      <td>1</td>\n",
       "      <td>36</td>\n",
       "      <td>19250000.0</td>\n",
       "      <td>6843672.0</td>\n",
       "      <td>8682716.0</td>\n",
       "      <td>26093672.0</td>\n",
       "    </tr>\n",
       "    <tr>\n",
       "      <td>2</td>\n",
       "      <td>83</td>\n",
       "      <td>1624396.0</td>\n",
       "      <td>869220.0</td>\n",
       "      <td>2003885.0</td>\n",
       "      <td>2493616.0</td>\n",
       "    </tr>\n",
       "    <tr>\n",
       "      <td>3</td>\n",
       "      <td>73</td>\n",
       "      <td>NaN</td>\n",
       "      <td>985032.0</td>\n",
       "      <td>2652612.0</td>\n",
       "      <td>985032.0</td>\n",
       "    </tr>\n",
       "    <tr>\n",
       "      <td>4</td>\n",
       "      <td>10</td>\n",
       "      <td>NaN</td>\n",
       "      <td>126027.0</td>\n",
       "      <td>1639297.0</td>\n",
       "      <td>126027.0</td>\n",
       "    </tr>\n",
       "    <tr>\n",
       "      <td>5</td>\n",
       "      <td>45</td>\n",
       "      <td>30766064.0</td>\n",
       "      <td>NaN</td>\n",
       "      <td>91093.0</td>\n",
       "      <td>30766064.0</td>\n",
       "    </tr>\n",
       "    <tr>\n",
       "      <td>6</td>\n",
       "      <td>98</td>\n",
       "      <td>8308552.0</td>\n",
       "      <td>3576206.0</td>\n",
       "      <td>360300.0</td>\n",
       "      <td>11884758.0</td>\n",
       "    </tr>\n",
       "    <tr>\n",
       "      <td>7</td>\n",
       "      <td>111</td>\n",
       "      <td>NaN</td>\n",
       "      <td>698242.0</td>\n",
       "      <td>1490344.0</td>\n",
       "      <td>698242.0</td>\n",
       "    </tr>\n",
       "    <tr>\n",
       "      <td>8</td>\n",
       "      <td>57</td>\n",
       "      <td>34348384.0</td>\n",
       "      <td>14761694.0</td>\n",
       "      <td>103559793.0</td>\n",
       "      <td>49110078.0</td>\n",
       "    </tr>\n",
       "    <tr>\n",
       "      <td>9</td>\n",
       "      <td>4</td>\n",
       "      <td>384728.0</td>\n",
       "      <td>393818.0</td>\n",
       "      <td>1272284.0</td>\n",
       "      <td>778546.0</td>\n",
       "    </tr>\n",
       "  </tbody>\n",
       "</table>\n",
       "</div>"
      ],
      "text/plain": [
       "   email_address  exercised_stock_options  restricted_stock  total_payments  \\\n",
       "0             56               19794175.0         2748364.0        505050.0   \n",
       "1             36               19250000.0         6843672.0       8682716.0   \n",
       "2             83                1624396.0          869220.0       2003885.0   \n",
       "3             73                      NaN          985032.0       2652612.0   \n",
       "4             10                      NaN          126027.0       1639297.0   \n",
       "5             45               30766064.0               NaN         91093.0   \n",
       "6             98                8308552.0         3576206.0        360300.0   \n",
       "7            111                      NaN          698242.0       1490344.0   \n",
       "8             57               34348384.0        14761694.0     103559793.0   \n",
       "9              4                 384728.0          393818.0       1272284.0   \n",
       "\n",
       "   total_stock_value  \n",
       "0         22542539.0  \n",
       "1         26093672.0  \n",
       "2          2493616.0  \n",
       "3           985032.0  \n",
       "4           126027.0  \n",
       "5         30766064.0  \n",
       "6         11884758.0  \n",
       "7           698242.0  \n",
       "8         49110078.0  \n",
       "9           778546.0  "
      ]
     },
     "execution_count": 7,
     "metadata": {},
     "output_type": "execute_result"
    }
   ],
   "source": [
    "df.head(10)"
   ]
  },
  {
   "cell_type": "markdown",
   "metadata": {},
   "source": [
    "### 觀察每個 Float 欄位的分佈"
   ]
  },
  {
   "cell_type": "code",
   "execution_count": 8,
   "metadata": {},
   "outputs": [
    {
     "data": {
      "image/png": "[encoded data removed]",
      "text/plain": [
       "<Figure size 432x288 with 1 Axes>"
      ]
     },
     "metadata": {
      "needs_background": "light"
     },
     "output_type": "display_data"
    },
    {
     "data": {
      "image/png": "[encoded data removed]",
      "text/plain": [
       "<Figure size 432x288 with 1 Axes>"
      ]
     },
     "metadata": {
      "needs_background": "light"
     },
     "output_type": "display_data"
    },
    {
     "data": {
      "image/png": "[encoded data removed]",
      "text/plain": [
       "<Figure size 432x288 with 1 Axes>"
      ]
     },
     "metadata": {
      "needs_background": "light"
     },
     "output_type": "display_data"
    },
    {
     "data": {
      "image/png": "[encoded data removed]",
      "text/plain": [
       "<Figure size 432x288 with 1 Axes>"
      ]
     },
     "metadata": {
      "needs_background": "light"
     },
     "output_type": "display_data"
    }
   ],
   "source": [
    "#畫出每個 Float Feature 的分布\n",
    "\n",
    "ncols = 1;\n",
    "nrows = len(float_features)\n",
    "ind = 0\n",
    "for f in float_features:\n",
    "    plt.figure(num=ind)\n",
    "    ind += 1\n",
    "    s_tmp = df[f][(~df[f].isnull())] #拿非NaN 的來算統計    \n",
    "    s_tmp.hist(bins = 100)\n",
    "    plt.ylabel('Counts')\n",
    "    plt.xlabel(f)\n",
    "plt.show() "
   ]
  },
  {
   "cell_type": "markdown",
   "metadata": {},
   "source": [
    "### 處理 Outlier"
   ]
  },
  {
   "cell_type": "code",
   "execution_count": 9,
   "metadata": {},
   "outputs": [
    {
     "data": {
      "image/png": "[encoded data removed]",
      "text/plain": [
       "<Figure size 432x288 with 1 Axes>"
      ]
     },
     "metadata": {
      "needs_background": "light"
     },
     "output_type": "display_data"
    },
    {
     "data": {
      "image/png": "[encoded data removed]",
      "text/plain": [
       "<Figure size 432x288 with 1 Axes>"
      ]
     },
     "metadata": {
      "needs_background": "light"
     },
     "output_type": "display_data"
    },
    {
     "data": {
      "image/png": "[encoded data removed]",
      "text/plain": [
       "<Figure size 432x288 with 1 Axes>"
      ]
     },
     "metadata": {
      "needs_background": "light"
     },
     "output_type": "display_data"
    },
    {
     "data": {
      "image/png": "[encoded data removed]",
      "text/plain": [
       "<Figure size 432x288 with 1 Axes>"
      ]
     },
     "metadata": {
      "needs_background": "light"
     },
     "output_type": "display_data"
    }
   ],
   "source": [
    "#對於每個 Float Feature 的分布，去除篇移值(用中位數替代)\n",
    "\n",
    "ncols = 1;\n",
    "nrows = len(float_features)\n",
    "ind = 0\n",
    "for f in float_features:\n",
    "    plt.figure(num=ind)\n",
    "    ind += 1\n",
    "    s_tmp = df[f][(~df[f].isnull())] #拿非NaN 的來算統計\n",
    "    md = s_tmp.median()\n",
    "    mean = s_tmp.mean()\n",
    "    new_series = df[f].copy()\n",
    "    new_series[df[f].isnull()] = md #nan 值用中位數取代\n",
    "#     new_series[df[f].isnull()] = mean #nan 值用mean取代\n",
    "\n",
    "    \n",
    "    thr_u = s_tmp.quantile(0.98) #upper \n",
    "    thr_l = s_tmp.quantile(0.02) #lower\n",
    "    new_series[new_series>thr_u] = thr_u \n",
    "    new_series[new_series<thr_l] = thr_l\n",
    "\n",
    "    \n",
    "    \n",
    "    new_series.hist(bins = 100)\n",
    "    plt.ylabel('Counts')\n",
    "    plt.xlabel(f)\n",
    "    \n",
    "    df[f] = new_series #將處理後的 Series 塞回去原本的 DataFrame\n",
    "plt.show() "
   ]
  },
  {
   "cell_type": "code",
   "execution_count": 10,
   "metadata": {
    "scrolled": true
   },
   "outputs": [
    {
     "data": {
      "text/html": [
       "<div>\n",
       "<style scoped>\n",
       "    .dataframe tbody tr th:only-of-type {\n",
       "        vertical-align: middle;\n",
       "    }\n",
       "\n",
       "    .dataframe tbody tr th {\n",
       "        vertical-align: top;\n",
       "    }\n",
       "\n",
       "    .dataframe thead th {\n",
       "        text-align: right;\n",
       "    }\n",
       "</style>\n",
       "<table border=\"1\" class=\"dataframe\">\n",
       "  <thead>\n",
       "    <tr style=\"text-align: right;\">\n",
       "      <th></th>\n",
       "      <th>email_address</th>\n",
       "      <th>exercised_stock_options</th>\n",
       "      <th>restricted_stock</th>\n",
       "      <th>total_payments</th>\n",
       "      <th>total_stock_value</th>\n",
       "    </tr>\n",
       "  </thead>\n",
       "  <tbody>\n",
       "    <tr>\n",
       "      <td>0</td>\n",
       "      <td>56</td>\n",
       "      <td>19794175.00</td>\n",
       "      <td>2748364.00</td>\n",
       "      <td>505050.0</td>\n",
       "      <td>22542539.0</td>\n",
       "    </tr>\n",
       "    <tr>\n",
       "      <td>1</td>\n",
       "      <td>36</td>\n",
       "      <td>19250000.00</td>\n",
       "      <td>6843672.00</td>\n",
       "      <td>8682716.0</td>\n",
       "      <td>26093672.0</td>\n",
       "    </tr>\n",
       "    <tr>\n",
       "      <td>2</td>\n",
       "      <td>83</td>\n",
       "      <td>1624396.00</td>\n",
       "      <td>869220.00</td>\n",
       "      <td>2003885.0</td>\n",
       "      <td>2493616.0</td>\n",
       "    </tr>\n",
       "    <tr>\n",
       "      <td>3</td>\n",
       "      <td>73</td>\n",
       "      <td>1310813.50</td>\n",
       "      <td>985032.00</td>\n",
       "      <td>2652612.0</td>\n",
       "      <td>985032.0</td>\n",
       "    </tr>\n",
       "    <tr>\n",
       "      <td>4</td>\n",
       "      <td>10</td>\n",
       "      <td>1310813.50</td>\n",
       "      <td>126027.00</td>\n",
       "      <td>1639297.0</td>\n",
       "      <td>126027.0</td>\n",
       "    </tr>\n",
       "    <tr>\n",
       "      <td>5</td>\n",
       "      <td>45</td>\n",
       "      <td>30546626.22</td>\n",
       "      <td>451740.00</td>\n",
       "      <td>91093.0</td>\n",
       "      <td>28429868.0</td>\n",
       "    </tr>\n",
       "    <tr>\n",
       "      <td>6</td>\n",
       "      <td>98</td>\n",
       "      <td>8308552.00</td>\n",
       "      <td>3576206.00</td>\n",
       "      <td>360300.0</td>\n",
       "      <td>11884758.0</td>\n",
       "    </tr>\n",
       "    <tr>\n",
       "      <td>7</td>\n",
       "      <td>111</td>\n",
       "      <td>1310813.50</td>\n",
       "      <td>698242.00</td>\n",
       "      <td>1490344.0</td>\n",
       "      <td>698242.0</td>\n",
       "    </tr>\n",
       "    <tr>\n",
       "      <td>8</td>\n",
       "      <td>57</td>\n",
       "      <td>30546626.22</td>\n",
       "      <td>12876278.02</td>\n",
       "      <td>16390334.8</td>\n",
       "      <td>28429868.0</td>\n",
       "    </tr>\n",
       "    <tr>\n",
       "      <td>9</td>\n",
       "      <td>4</td>\n",
       "      <td>384728.00</td>\n",
       "      <td>393818.00</td>\n",
       "      <td>1272284.0</td>\n",
       "      <td>778546.0</td>\n",
       "    </tr>\n",
       "  </tbody>\n",
       "</table>\n",
       "</div>"
      ],
      "text/plain": [
       "   email_address  exercised_stock_options  restricted_stock  total_payments  \\\n",
       "0             56              19794175.00        2748364.00        505050.0   \n",
       "1             36              19250000.00        6843672.00       8682716.0   \n",
       "2             83               1624396.00         869220.00       2003885.0   \n",
       "3             73               1310813.50         985032.00       2652612.0   \n",
       "4             10               1310813.50         126027.00       1639297.0   \n",
       "5             45              30546626.22         451740.00         91093.0   \n",
       "6             98               8308552.00        3576206.00        360300.0   \n",
       "7            111               1310813.50         698242.00       1490344.0   \n",
       "8             57              30546626.22       12876278.02      16390334.8   \n",
       "9              4                384728.00         393818.00       1272284.0   \n",
       "\n",
       "   total_stock_value  \n",
       "0         22542539.0  \n",
       "1         26093672.0  \n",
       "2          2493616.0  \n",
       "3           985032.0  \n",
       "4           126027.0  \n",
       "5         28429868.0  \n",
       "6         11884758.0  \n",
       "7           698242.0  \n",
       "8         28429868.0  \n",
       "9           778546.0  "
      ]
     },
     "execution_count": 10,
     "metadata": {},
     "output_type": "execute_result"
    }
   ],
   "source": [
    "df.head(10)"
   ]
  },
  {
   "cell_type": "markdown",
   "metadata": {},
   "source": [
    "### Traning  (baseline)\n",
    "* Logistic Regression"
   ]
  },
  {
   "cell_type": "code",
   "execution_count": 11,
   "metadata": {},
   "outputs": [],
   "source": [
    "from sklearn.linear_model import LogisticRegression\n",
    "from sklearn import metrics"
   ]
  },
  {
   "cell_type": "markdown",
   "metadata": {},
   "source": [
    "### K-fold partition"
   ]
  },
  {
   "cell_type": "code",
   "execution_count": 12,
   "metadata": {},
   "outputs": [],
   "source": [
    "# 13 = 3 + 3 + 3 + 4  (positive)\n",
    "# 100 = 25 + 25 + 25 + 25 (negative)\n",
    "# 建立 indicate set\n",
    "\n",
    "ind_1 = np.zeros((113), dtype=bool)\n",
    "start_ind = 13 #開始 negative\n",
    "for i in range(3):\n",
    "    ind_1[i] = True;\n",
    "for i in range(start_ind, start_ind+25):\n",
    "    ind_1[i] = True\n",
    "    \n",
    "ind_2 = np.zeros((113), dtype=bool)\n",
    "start_ind = 13 #開始 negative\n",
    "for i in range(3, 6):\n",
    "    ind_2[i] = True;\n",
    "for i in range(start_ind+25, start_ind+50):\n",
    "    ind_2[i] = True;\n",
    "    \n",
    "ind_3 = np.zeros((113), dtype=bool)\n",
    "start_ind = 13 #開始 negative\n",
    "for i in range(6, 9):\n",
    "    ind_3[i] = True;\n",
    "for i in range(start_ind+50, start_ind+75):\n",
    "    ind_3[i] = True;\n",
    "\n",
    "ind_4 = np.zeros((113), dtype=bool)\n",
    "start_ind = 13 #開始 negative\n",
    "for i in range(9, 13):\n",
    "    ind_4[i] = True;\n",
    "for i in range(start_ind+75, start_ind+100):\n",
    "    ind_4[i] = True;"
   ]
  },
  {
   "cell_type": "code",
   "execution_count": 13,
   "metadata": {},
   "outputs": [
    {
     "name": "stdout",
     "output_type": "stream",
     "text": [
      "i=0 \n",
      " [ True  True  True False False False False False False False False False\n",
      " False  True  True  True  True  True  True  True  True  True  True  True\n",
      "  True  True  True  True  True  True  True  True  True  True  True  True\n",
      "  True  True False False False False False False False False False False\n",
      " False False False False False False False False False False False False\n",
      " False False False False False False False False False False False False\n",
      " False False False False False False False False False False False False\n",
      " False False False False False False False False False False False False\n",
      " False False False False False False False False False False False False\n",
      " False False False False False]\n",
      "i=1 \n",
      " [False False False  True  True  True False False False False False False\n",
      " False False False False False False False False False False False False\n",
      " False False False False False False False False False False False False\n",
      " False False  True  True  True  True  True  True  True  True  True  True\n",
      "  True  True  True  True  True  True  True  True  True  True  True  True\n",
      "  True  True  True False False False False False False False False False\n",
      " False False False False False False False False False False False False\n",
      " False False False False False False False False False False False False\n",
      " False False False False False False False False False False False False\n",
      " False False False False False]\n",
      "i=2 \n",
      " [False False False False False False  True  True  True False False False\n",
      " False False False False False False False False False False False False\n",
      " False False False False False False False False False False False False\n",
      " False False False False False False False False False False False False\n",
      " False False False False False False False False False False False False\n",
      " False False False  True  True  True  True  True  True  True  True  True\n",
      "  True  True  True  True  True  True  True  True  True  True  True  True\n",
      "  True  True  True  True False False False False False False False False\n",
      " False False False False False False False False False False False False\n",
      " False False False False False]\n",
      "i=3 \n",
      " [False False False False False False False False False  True  True  True\n",
      "  True False False False False False False False False False False False\n",
      " False False False False False False False False False False False False\n",
      " False False False False False False False False False False False False\n",
      " False False False False False False False False False False False False\n",
      " False False False False False False False False False False False False\n",
      " False False False False False False False False False False False False\n",
      " False False False False  True  True  True  True  True  True  True  True\n",
      "  True  True  True  True  True  True  True  True  True  True  True  True\n",
      "  True  True  True  True  True]\n"
     ]
    }
   ],
   "source": [
    "indices = [ind_1, ind_2, ind_3, ind_4]\n",
    "for i in range(len(indices)):\n",
    "    print('i=%d \\n'%i, indices[i])"
   ]
  },
  {
   "cell_type": "code",
   "execution_count": 14,
   "metadata": {
    "scrolled": false
   },
   "outputs": [
    {
     "name": "stdout",
     "output_type": "stream",
     "text": [
      "Accuracy:  0.7099753694581281\n"
     ]
    }
   ],
   "source": [
    "# log_reg  = LogisticRegression(solver='newton-cg') #一直紅字，不收斂\n",
    "log_reg = LogisticRegression(solver='lbfgs')\n",
    "\n",
    "train_X = df[:train_num].values\n",
    "\n",
    "# Cross Validation  (K-fold)\n",
    "acc = 0\n",
    "# 訓練模型\n",
    "for i in range(len(indices)):\n",
    "    train_ind = ~indices[i]\n",
    "    test_ind = indices[i]\n",
    "    train_X_i = train_X[train_ind]\n",
    "    train_Y_i = train_Y[train_ind]\n",
    "    log_reg.fit(train_X_i, train_Y_i)\n",
    "\n",
    "    x_test_i = train_X[test_ind] #取 df 後半段為 test\n",
    "    y_test_i = train_Y[test_ind]\n",
    "    y_pred_i = log_reg.predict(x_test_i)\n",
    "    acc_i = metrics.accuracy_score(y_test_i, y_pred_i)\n",
    "    acc += acc_i/len(indices)\n",
    "print(\"Accuracy: \", acc)"
   ]
  },
  {
   "cell_type": "code",
   "execution_count": 15,
   "metadata": {
    "scrolled": true
   },
   "outputs": [],
   "source": [
    "# #拿全部的資料來 Train\n",
    "# log_reg.fit(train_X, train_Y)\n",
    "# y_pred = log_reg.predict(train_X)\n",
    "# acc = metrics.accuracy_score(y_pred, train_Y)\n",
    "# print('acc = %.5f '%acc)\n",
    "\n",
    "\n",
    "# test_X = df[train_num:].values\n",
    "# #注意 logistic regression 的預測輸出，第一個column 是 0 的機率，第二個 column 是 1 的機率\n",
    "# y_pred_prob = log_reg.predict_proba(test_X)[:, 0]"
   ]
  },
  {
   "cell_type": "code",
   "execution_count": 16,
   "metadata": {},
   "outputs": [],
   "source": [
    "#拿四種 K-fold 的模型 所估計的機率取平均\n",
    "test_X = df[train_num:].values\n",
    "\n",
    "y_pred_prob_avg = np.zeros(len(test_X))\n",
    "for i in range(len(indices)):\n",
    "    train_ind = ~indices[i]\n",
    "    test_ind = indices[i]\n",
    "    train_X_i = train_X[train_ind]\n",
    "    train_Y_i = train_Y[train_ind]\n",
    "    log_reg.fit(train_X_i, train_Y_i)\n",
    "    \n",
    "    test_y_pred_i = log_reg.predict_proba(test_X)[:, 0]\n",
    "    y_pred_prob_avg += test_y_pred_i/len(indices)\n",
    "\n",
    "\n",
    "y_pred_prob = y_pred_prob_avg"
   ]
  },
  {
   "cell_type": "markdown",
   "metadata": {},
   "source": [
    "### 建立Kaggle submission"
   ]
  },
  {
   "cell_type": "code",
   "execution_count": 17,
   "metadata": {
    "scrolled": true
   },
   "outputs": [
    {
     "name": "stdout",
     "output_type": "stream",
     "text": [
      "                    name       poi\n",
      "0       BELDEN TIMOTHY N  0.966427\n",
      "1     BOWEN JR RAYMOND M  0.777185\n",
      "2         HANNON KEVIN P  0.403408\n",
      "3       DELAINEY DAVID W  0.945304\n",
      "4       CAUSEY RICHARD A  0.743527\n",
      "5       HICKERSON GARY J  0.716532\n",
      "6         FREVERT MARK A  0.999876\n",
      "7            CHAN RONNIE  0.630929\n",
      "8   DONAHUE JR JEFFREY M  0.622962\n",
      "9      REYNOLDS LAWRENCE  0.440243\n",
      "10      HORTON STANLEY C  0.825311\n",
      "11         LEWIS RICHARD  0.650856\n",
      "12    SHERRICK JEFFREY B  0.639792\n",
      "13        MEYER JEROME J  0.469154\n",
      "14   DERRICK JR. JAMES V  0.374062\n",
      "15              PIRO JIM  0.582089\n",
      "16   DETMERING TIMOTHY J  0.632489\n",
      "17     KISHKILL JOSEPH G  0.556886\n",
      "18        BAY FRANKLIN R  0.542909\n",
      "19        PRENTICE JAMES  0.568523\n",
      "20                 TOTAL  0.789104\n",
      "21        FALLON JAMES B  0.914144\n",
      "22            METTS MARK  0.591364\n",
      "23         WODRASKA JOHN  0.496989\n",
      "24   MORDAUNT KRISTINA M  0.524271\n",
      "25      CARTER REBECCA C  0.539239\n",
      "26      BHATNAGAR SANJAY  0.999843\n",
      "27      WALTERS GARETH W  0.492936\n",
      "28       BIBI PHILIPPE A  0.762363\n",
      "29       SHERRIFF JOHN R  0.934000\n",
      "30          GIBBS DANA R  0.592826\n",
      "31        LINDHOLM TOD A  0.575546\n",
      "32       MCMAHON JEFFREY  0.925301\n"
     ]
    }
   ],
   "source": [
    "submission_df = pd.DataFrame()\n",
    "submission_df['name'] = df_test['name']\n",
    "submission_df['poi'] = y_pred_prob\n",
    "print(submission_df)"
   ]
  },
  {
   "cell_type": "markdown",
   "metadata": {},
   "source": [
    "### 存檔成CSV"
   ]
  },
  {
   "cell_type": "code",
   "execution_count": 18,
   "metadata": {},
   "outputs": [],
   "source": [
    "import time\n",
    "time_array = time.localtime() # localtime\n",
    "time_str = time.strftime('%m-%dT%H%M%S', time_array)\n",
    "\n",
    "submission_filename = 'Result_'+time_str+'.csv'\n",
    "# submission_df.to_csv(submission_filename, index=False)"
   ]
  },
  {
   "cell_type": "markdown",
   "metadata": {},
   "source": [
    "### public testing set\n",
    "* Result_10-24T210049.csv  Score:0.5\n",
    "* Result_10-24T210506.csv  Score:0.50714\n",
    "* Result_10-24T210953.csv  Score:0.4\n",
    "* Result_10-24T212633.csv  Score:0.57857\n",
    "* Result_10-25T145901.csv  Score:0.61428\n",
    "* Result_10-25T150316.csv  Score:0.55\n",
    "* Result_10-25T151218.csv  Score:0.2785\n",
    "* Result_10-25T152132.csv  Score:0.5857\n",
    "* Result_10-26T142733.csv  Score:0.65\n",
    "* Result_10-26T145526.csv  Score:0.67142\n",
    "* Result_10-26T151128.csv  Score:0.43571\n",
    "* Result_10-26T151718.csv  Score:0.67142"
   ]
  }
 ],
 "metadata": {
  "kernelspec": {
   "display_name": "Python 3",
   "language": "python",
   "name": "python3"
  },
  "language_info": {
   "codemirror_mode": {
    "name": "ipython",
    "version": 3
   },
   "file_extension": ".py",
   "mimetype": "text/x-python",
   "name": "python",
   "nbconvert_exporter": "python",
   "pygments_lexer": "ipython3",
   "version": "3.7.4"
  }
 },
 "nbformat": 4,
 "nbformat_minor": 2
}
