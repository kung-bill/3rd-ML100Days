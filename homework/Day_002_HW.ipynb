{
 "cells": [
  {
   "cell_type": "markdown",
   "metadata": {},
   "source": [
    "## [作業目標]\n",
    "了解機器學習適合應用的領域與範疇。"
   ]
  },
  {
   "cell_type": "markdown",
   "metadata": {},
   "source": [
    "## [作業重點]\n",
    "透過瞭解機器學習的運作方式，找出非常適用機器學習應用的領域及其原因"
   ]
  },
  {
   "cell_type": "markdown",
   "metadata": {},
   "source": [
    "## 作業\n",
    "請找出一個你認為機器學習可以發光發熱的領域並闡述原因? "
   ]
  },
  {
   "cell_type": "markdown",
   "metadata": {},
   "source": [
    "<p>機器學習，是透過電腦運算效能的提升，進而有能力實作出以前研發出來的理論上的演算法，進而目前火紅的一個領域。</p>\n",
    "<p>我認為在機械學習的領域中，特徵萃取的技術，是讓機器學習發光發熱的原因。舉例來說，生醫影像的判定，通常透過醫生來進行診斷，有時候連專業的醫生都會有誤判的情況，人對於某種數位訊號的型態，與相對應的疾病連結，並無法很精準的描述，但是我們能透過機械學習的技術，對於某類的疾病產生的醫療影像，進行特徵萃取。人類能透過機械學習演算法學習出來的特徵來學習，讓人類對於該疾病的對應特徵，能有夠進一步的了解。</p>\n",
    "\n",
    "\n",
    "\n",
    "\n",
    "   "
   ]
  },
  {
   "cell_type": "code",
   "execution_count": null,
   "metadata": {},
   "outputs": [],
   "source": []
  }
 ],
 "metadata": {
  "kernelspec": {
   "display_name": "Python 3",
   "language": "python",
   "name": "python3"
  },
  "language_info": {
   "codemirror_mode": {
    "name": "ipython",
    "version": 3
   },
   "file_extension": ".py",
   "mimetype": "text/x-python",
   "name": "python",
   "nbconvert_exporter": "python",
   "pygments_lexer": "ipython3",
   "version": "3.7.3"
  }
 },
 "nbformat": 4,
 "nbformat_minor": 2
}
